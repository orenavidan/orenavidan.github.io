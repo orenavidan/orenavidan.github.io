{
  "cells": [
    {
      "cell_type": "markdown",
      "metadata": {
        "id": "MhgpjVryXt8Z"
      },
      "source": [
        "# **# Big Data Platforms Final Project: Small Files Problem in MapReduce**\n"
      ]
    },
    {
      "cell_type": "markdown",
      "metadata": {
        "id": "44_AbEmaXt8d"
      },
      "source": [
        "**Authors:** \n",
        " \n",
        "Meital Avitan, 204945323 \n",
        "\n",
        "Oren Avidan, 304823735\n",
        "\n",
        "<br>"
      ]
    },
    {
      "cell_type": "markdown",
      "metadata": {
        "id": "-oQZat2qXt8g"
      },
      "source": [
        "# **# Lithops & IBM Cloud Setup**\n",
        "\n",
        "In this section, we set up Lithops & IBM cloud for the demonstration.\n",
        "\n"
      ]
    },
    {
      "cell_type": "code",
      "execution_count": 1,
      "metadata": {
        "id": "48DO-tBvcHk9",
        "colab": {
          "base_uri": "https://localhost:8080/"
        },
        "outputId": "1658620c-d24c-497d-db23-300303ad2d16"
      },
      "outputs": [
        {
          "output_type": "stream",
          "name": "stdout",
          "text": [
            "Collecting lithops\n",
            "  Downloading lithops-2.5.8-py3-none-any.whl (308 kB)\n",
            "\u001b[K     |████████████████████████████████| 308 kB 5.7 MB/s \n",
            "\u001b[?25hRequirement already satisfied: tblib in /usr/local/lib/python3.7/dist-packages (from lithops) (1.7.0)\n",
            "Requirement already satisfied: seaborn in /usr/local/lib/python3.7/dist-packages (from lithops) (0.11.2)\n",
            "Collecting docker\n",
            "  Downloading docker-5.0.3-py2.py3-none-any.whl (146 kB)\n",
            "\u001b[K     |████████████████████████████████| 146 kB 48.8 MB/s \n",
            "\u001b[?25hCollecting redis\n",
            "  Downloading redis-4.1.3-py3-none-any.whl (173 kB)\n",
            "\u001b[K     |████████████████████████████████| 173 kB 41.5 MB/s \n",
            "\u001b[?25hCollecting ibm-cos-sdk\n",
            "  Downloading ibm-cos-sdk-2.11.0.tar.gz (53 kB)\n",
            "\u001b[K     |████████████████████████████████| 53 kB 1.2 MB/s \n",
            "\u001b[?25hRequirement already satisfied: Click in /usr/local/lib/python3.7/dist-packages (from lithops) (7.1.2)\n",
            "Collecting paramiko\n",
            "  Downloading paramiko-2.9.2-py2.py3-none-any.whl (210 kB)\n",
            "\u001b[K     |████████████████████████████████| 210 kB 24.9 MB/s \n",
            "\u001b[?25hRequirement already satisfied: cloudpickle in /usr/local/lib/python3.7/dist-packages (from lithops) (1.3.0)\n",
            "Requirement already satisfied: pandas in /usr/local/lib/python3.7/dist-packages (from lithops) (1.3.5)\n",
            "Requirement already satisfied: PyYAML in /usr/local/lib/python3.7/dist-packages (from lithops) (3.13)\n",
            "Collecting kubernetes\n",
            "  Downloading kubernetes-22.6.0-py2.py3-none-any.whl (1.5 MB)\n",
            "\u001b[K     |████████████████████████████████| 1.5 MB 38.4 MB/s \n",
            "\u001b[?25hRequirement already satisfied: tqdm in /usr/local/lib/python3.7/dist-packages (from lithops) (4.62.3)\n",
            "Requirement already satisfied: python-dateutil in /usr/local/lib/python3.7/dist-packages (from lithops) (2.8.2)\n",
            "Collecting ps-mem\n",
            "  Downloading ps_mem-3.12.tar.gz (18 kB)\n",
            "Collecting pika\n",
            "  Downloading pika-1.2.0-py2.py3-none-any.whl (154 kB)\n",
            "\u001b[K     |████████████████████████████████| 154 kB 36.0 MB/s \n",
            "\u001b[?25hRequirement already satisfied: requests in /usr/local/lib/python3.7/dist-packages (from lithops) (2.23.0)\n",
            "Requirement already satisfied: matplotlib in /usr/local/lib/python3.7/dist-packages (from lithops) (3.2.2)\n",
            "Requirement already satisfied: lxml in /usr/local/lib/python3.7/dist-packages (from lithops) (4.2.6)\n",
            "Collecting ibm-vpc\n",
            "  Downloading ibm-vpc-0.9.0.tar.gz (225 kB)\n",
            "\u001b[K     |████████████████████████████████| 225 kB 40.1 MB/s \n",
            "\u001b[?25hCollecting websocket-client>=0.32.0\n",
            "  Downloading websocket_client-1.2.3-py3-none-any.whl (53 kB)\n",
            "\u001b[K     |████████████████████████████████| 53 kB 1.7 MB/s \n",
            "\u001b[?25hRequirement already satisfied: urllib3!=1.25.0,!=1.25.1,<1.26,>=1.21.1 in /usr/local/lib/python3.7/dist-packages (from requests->lithops) (1.24.3)\n",
            "Requirement already satisfied: chardet<4,>=3.0.2 in /usr/local/lib/python3.7/dist-packages (from requests->lithops) (3.0.4)\n",
            "Requirement already satisfied: idna<3,>=2.5 in /usr/local/lib/python3.7/dist-packages (from requests->lithops) (2.10)\n",
            "Requirement already satisfied: certifi>=2017.4.17 in /usr/local/lib/python3.7/dist-packages (from requests->lithops) (2021.10.8)\n",
            "Collecting ibm-cos-sdk-core==2.11.0\n",
            "  Downloading ibm-cos-sdk-core-2.11.0.tar.gz (913 kB)\n",
            "\u001b[K     |████████████████████████████████| 913 kB 11.1 MB/s \n",
            "\u001b[?25hCollecting ibm-cos-sdk-s3transfer==2.11.0\n",
            "  Downloading ibm-cos-sdk-s3transfer-2.11.0.tar.gz (135 kB)\n",
            "\u001b[K     |████████████████████████████████| 135 kB 44.5 MB/s \n",
            "\u001b[?25hCollecting jmespath<1.0.0,>=0.7.1\n",
            "  Downloading jmespath-0.10.0-py2.py3-none-any.whl (24 kB)\n",
            "Collecting requests\n",
            "  Downloading requests-2.27.1-py2.py3-none-any.whl (63 kB)\n",
            "\u001b[K     |████████████████████████████████| 63 kB 201 kB/s \n",
            "\u001b[?25hINFO: pip is looking at multiple versions of ibm-cos-sdk to determine which version is compatible with other requirements. This could take a while.\n",
            "Collecting ibm-cos-sdk\n",
            "  Downloading ibm-cos-sdk-2.10.0.tar.gz (52 kB)\n",
            "\u001b[K     |████████████████████████████████| 52 kB 551 kB/s \n",
            "\u001b[?25hCollecting ibm-cos-sdk-core==2.10.0\n",
            "  Downloading ibm-cos-sdk-core-2.10.0.tar.gz (888 kB)\n",
            "\u001b[K     |████████████████████████████████| 888 kB 40.4 MB/s \n",
            "\u001b[?25hCollecting ibm-cos-sdk-s3transfer==2.10.0\n",
            "  Downloading ibm-cos-sdk-s3transfer-2.10.0.tar.gz (133 kB)\n",
            "\u001b[K     |████████████████████████████████| 133 kB 40.0 MB/s \n",
            "\u001b[?25hRequirement already satisfied: six>=1.5 in /usr/local/lib/python3.7/dist-packages (from python-dateutil->lithops) (1.15.0)\n",
            "Collecting ibm_cloud_sdk_core>=3.13.2\n",
            "  Downloading ibm-cloud-sdk-core-3.14.0.tar.gz (50 kB)\n",
            "\u001b[K     |████████████████████████████████| 50 kB 6.2 MB/s \n",
            "\u001b[?25h  Downloading ibm-cloud-sdk-core-3.13.2.tar.gz (49 kB)\n",
            "\u001b[K     |████████████████████████████████| 49 kB 4.3 MB/s \n",
            "\u001b[?25hINFO: pip is looking at multiple versions of ibm-vpc to determine which version is compatible with other requirements. This could take a while.\n",
            "Collecting ibm-vpc\n",
            "  Downloading ibm-vpc-0.8.0.tar.gz (219 kB)\n",
            "\u001b[K     |████████████████████████████████| 219 kB 31.9 MB/s \n",
            "\u001b[?25hCollecting ibm_cloud_sdk_core>=3.11.3\n",
            "  Downloading ibm-cloud-sdk-core-3.13.1.tar.gz (49 kB)\n",
            "\u001b[K     |████████████████████████████████| 49 kB 2.7 MB/s \n",
            "\u001b[?25hCollecting PyJWT<3.0.0,>=2.0.1\n",
            "  Downloading PyJWT-2.3.0-py3-none-any.whl (16 kB)\n",
            "Requirement already satisfied: google-auth>=1.0.1 in /usr/local/lib/python3.7/dist-packages (from kubernetes->lithops) (1.35.0)\n",
            "Requirement already satisfied: requests-oauthlib in /usr/local/lib/python3.7/dist-packages (from kubernetes->lithops) (1.3.1)\n",
            "Requirement already satisfied: setuptools>=21.0.0 in /usr/local/lib/python3.7/dist-packages (from kubernetes->lithops) (57.4.0)\n",
            "Collecting PyYAML\n",
            "  Downloading PyYAML-6.0-cp37-cp37m-manylinux_2_5_x86_64.manylinux1_x86_64.manylinux_2_12_x86_64.manylinux2010_x86_64.whl (596 kB)\n",
            "\u001b[K     |████████████████████████████████| 596 kB 46.9 MB/s \n",
            "\u001b[?25hRequirement already satisfied: cachetools<5.0,>=2.0.0 in /usr/local/lib/python3.7/dist-packages (from google-auth>=1.0.1->kubernetes->lithops) (4.2.4)\n",
            "Requirement already satisfied: rsa<5,>=3.1.4 in /usr/local/lib/python3.7/dist-packages (from google-auth>=1.0.1->kubernetes->lithops) (4.8)\n",
            "Requirement already satisfied: pyasn1-modules>=0.2.1 in /usr/local/lib/python3.7/dist-packages (from google-auth>=1.0.1->kubernetes->lithops) (0.2.8)\n",
            "Requirement already satisfied: pyasn1<0.5.0,>=0.4.6 in /usr/local/lib/python3.7/dist-packages (from pyasn1-modules>=0.2.1->google-auth>=1.0.1->kubernetes->lithops) (0.4.8)\n",
            "Requirement already satisfied: numpy>=1.11 in /usr/local/lib/python3.7/dist-packages (from matplotlib->lithops) (1.19.5)\n",
            "Requirement already satisfied: pyparsing!=2.0.4,!=2.1.2,!=2.1.6,>=2.0.1 in /usr/local/lib/python3.7/dist-packages (from matplotlib->lithops) (3.0.7)\n",
            "Requirement already satisfied: cycler>=0.10 in /usr/local/lib/python3.7/dist-packages (from matplotlib->lithops) (0.11.0)\n",
            "Requirement already satisfied: kiwisolver>=1.0.1 in /usr/local/lib/python3.7/dist-packages (from matplotlib->lithops) (1.3.2)\n",
            "Requirement already satisfied: pytz>=2017.3 in /usr/local/lib/python3.7/dist-packages (from pandas->lithops) (2018.9)\n",
            "Collecting pynacl>=1.0.1\n",
            "  Downloading PyNaCl-1.5.0-cp36-abi3-manylinux_2_17_x86_64.manylinux2014_x86_64.manylinux_2_24_x86_64.whl (856 kB)\n",
            "\u001b[K     |████████████████████████████████| 856 kB 46.9 MB/s \n",
            "\u001b[?25hCollecting cryptography>=2.5\n",
            "  Downloading cryptography-36.0.1-cp36-abi3-manylinux_2_24_x86_64.whl (3.6 MB)\n",
            "\u001b[K     |████████████████████████████████| 3.6 MB 34.9 MB/s \n",
            "\u001b[?25hCollecting bcrypt>=3.1.3\n",
            "  Downloading bcrypt-3.2.0-cp36-abi3-manylinux_2_17_x86_64.manylinux2014_x86_64.manylinux_2_24_x86_64.whl (61 kB)\n",
            "\u001b[K     |████████████████████████████████| 61 kB 396 kB/s \n",
            "\u001b[?25hRequirement already satisfied: cffi>=1.1 in /usr/local/lib/python3.7/dist-packages (from bcrypt>=3.1.3->paramiko->lithops) (1.15.0)\n",
            "Requirement already satisfied: pycparser in /usr/local/lib/python3.7/dist-packages (from cffi>=1.1->bcrypt>=3.1.3->paramiko->lithops) (2.21)\n",
            "Requirement already satisfied: packaging>=20.4 in /usr/local/lib/python3.7/dist-packages (from redis->lithops) (21.3)\n",
            "Collecting deprecated>=1.2.3\n",
            "  Downloading Deprecated-1.2.13-py2.py3-none-any.whl (9.6 kB)\n",
            "Requirement already satisfied: importlib-metadata>=1.0 in /usr/local/lib/python3.7/dist-packages (from redis->lithops) (4.10.1)\n",
            "Requirement already satisfied: wrapt<2,>=1.10 in /usr/local/lib/python3.7/dist-packages (from deprecated>=1.2.3->redis->lithops) (1.13.3)\n",
            "Requirement already satisfied: zipp>=0.5 in /usr/local/lib/python3.7/dist-packages (from importlib-metadata>=1.0->redis->lithops) (3.7.0)\n",
            "Requirement already satisfied: typing-extensions>=3.6.4 in /usr/local/lib/python3.7/dist-packages (from importlib-metadata>=1.0->redis->lithops) (3.10.0.2)\n",
            "Requirement already satisfied: oauthlib>=3.0.0 in /usr/local/lib/python3.7/dist-packages (from requests-oauthlib->kubernetes->lithops) (3.2.0)\n",
            "Requirement already satisfied: scipy>=1.0 in /usr/local/lib/python3.7/dist-packages (from seaborn->lithops) (1.4.1)\n",
            "Building wheels for collected packages: ibm-cos-sdk, ibm-cos-sdk-core, ibm-cos-sdk-s3transfer, ibm-vpc, ibm-cloud-sdk-core, ps-mem\n",
            "  Building wheel for ibm-cos-sdk (setup.py) ... \u001b[?25l\u001b[?25hdone\n",
            "  Created wheel for ibm-cos-sdk: filename=ibm_cos_sdk-2.10.0-py2.py3-none-any.whl size=73434 sha256=1ed23646aa9032b7a57615ef36bb60fbba02aa0060c9bce16d9f625e07dbcafc\n",
            "  Stored in directory: /root/.cache/pip/wheels/98/e5/79/c9357a90a17449375e4e19ad55fd68810c0d1bf8393cd90c11\n",
            "  Building wheel for ibm-cos-sdk-core (setup.py) ... \u001b[?25l\u001b[?25hdone\n",
            "  Created wheel for ibm-cos-sdk-core: filename=ibm_cos_sdk_core-2.10.0-py2.py3-none-any.whl size=526060 sha256=9003df4f76eb32244ddfaa91df92406fe96cb544587b4f76b6886bb95f97b799\n",
            "  Stored in directory: /root/.cache/pip/wheels/d6/80/75/a0e201094d0979c175abb643576a6fac462dc09c33ae9eb49a\n",
            "  Building wheel for ibm-cos-sdk-s3transfer (setup.py) ... \u001b[?25l\u001b[?25hdone\n",
            "  Created wheel for ibm-cos-sdk-s3transfer: filename=ibm_cos_sdk_s3transfer-2.10.0-py2.py3-none-any.whl size=88651 sha256=5cd72826509c67e4de400e7ea77cf3e7fa5105e5a7b79f2e2018d6d88d18c03c\n",
            "  Stored in directory: /root/.cache/pip/wheels/ab/ee/ee/88daffc4f825c45dd6f3d0db3c0d1a05b950bf23ec2bc300a2\n",
            "  Building wheel for ibm-vpc (setup.py) ... \u001b[?25l\u001b[?25hdone\n",
            "  Created wheel for ibm-vpc: filename=ibm_vpc-0.8.0-py3-none-any.whl size=224794 sha256=8c9da93abad259af5bb6081034a4869107f041478637a1784063e3aea5f47f6d\n",
            "  Stored in directory: /root/.cache/pip/wheels/9b/b0/02/115eeb5f7fd89cfc918f04cf1fe147a103b9b41cc9b28f4e6c\n",
            "  Building wheel for ibm-cloud-sdk-core (setup.py) ... \u001b[?25l\u001b[?25hdone\n",
            "  Created wheel for ibm-cloud-sdk-core: filename=ibm_cloud_sdk_core-3.13.1-py3-none-any.whl size=83226 sha256=888ae9a0e486101213807f0cdc9bbd494a795bcce98e504f83a6072149a79c3a\n",
            "  Stored in directory: /root/.cache/pip/wheels/46/a1/7c/2ca2f9a6a284e6ee2ddaf17e90d06ac256162f40f17398a047\n",
            "  Building wheel for ps-mem (setup.py) ... \u001b[?25l\u001b[?25hdone\n",
            "  Created wheel for ps-mem: filename=ps_mem-3.12-py3-none-any.whl size=18888 sha256=a06d4531dfa5d7952bff3e9418e21a1f9f89f5c95d6912ae5695b0109d379116\n",
            "  Stored in directory: /root/.cache/pip/wheels/cb/4d/24/11d62c57abc27d92d9c02dd84b4e6144082b5d3884bd192840\n",
            "Successfully built ibm-cos-sdk ibm-cos-sdk-core ibm-cos-sdk-s3transfer ibm-vpc ibm-cloud-sdk-core ps-mem\n",
            "Installing collected packages: jmespath, PyJWT, ibm-cos-sdk-core, websocket-client, PyYAML, pynacl, ibm-cos-sdk-s3transfer, ibm-cloud-sdk-core, deprecated, cryptography, bcrypt, redis, ps-mem, pika, paramiko, kubernetes, ibm-vpc, ibm-cos-sdk, docker, lithops\n",
            "  Attempting uninstall: PyYAML\n",
            "    Found existing installation: PyYAML 3.13\n",
            "    Uninstalling PyYAML-3.13:\n",
            "      Successfully uninstalled PyYAML-3.13\n",
            "Successfully installed PyJWT-2.3.0 PyYAML-6.0 bcrypt-3.2.0 cryptography-36.0.1 deprecated-1.2.13 docker-5.0.3 ibm-cloud-sdk-core-3.13.1 ibm-cos-sdk-2.10.0 ibm-cos-sdk-core-2.10.0 ibm-cos-sdk-s3transfer-2.10.0 ibm-vpc-0.8.0 jmespath-0.10.0 kubernetes-22.6.0 lithops-2.5.8 paramiko-2.9.2 pika-1.2.0 ps-mem-3.12 pynacl-1.5.0 redis-4.1.3 websocket-client-1.2.3\n"
          ]
        }
      ],
      "source": [
        "# installing lithops\n",
        "! pip install lithops"
      ]
    },
    {
      "cell_type": "code",
      "execution_count": 2,
      "metadata": {
        "id": "Qv4FCTb0cv0K",
        "colab": {
          "base_uri": "https://localhost:8080/"
        },
        "outputId": "dbdb427d-a1c5-4005-ea2a-c4ac6280d592"
      },
      "outputs": [
        {
          "output_type": "stream",
          "name": "stdout",
          "text": [
            "2022-02-15 15:52:03,923 [INFO] lithops.config -- Lithops v2.5.8\n",
            "2022-02-15 15:52:03,925 [INFO] lithops.storage.backends.localhost.localhost -- Localhost storage client created\n",
            "2022-02-15 15:52:03,925 [INFO] lithops.localhost.localhost -- Localhost compute client created\n",
            "2022-02-15 15:52:03,925 [INFO] lithops.invokers -- ExecutorID 45740a-0 | JobID A000 - Selected Runtime: python3 \n",
            "2022-02-15 15:52:03,926 [INFO] lithops.invokers -- Runtime python3 is not yet installed\n",
            "2022-02-15 15:52:03,926 [INFO] lithops.localhost.localhost -- Extracting preinstalled Python modules from python3\n",
            "2022-02-15 15:52:04,573 [INFO] lithops.invokers -- ExecutorID 45740a-0 | JobID A000 - Starting function invocation: hello() - Total: 1 activations\n",
            "2022-02-15 15:52:04,574 [INFO] lithops.invokers -- ExecutorID 45740a-0 | JobID A000 - View execution logs at /tmp/lithops/logs/45740a-0-A000.log\n",
            "2022-02-15 15:52:04,580 [INFO] lithops.wait -- ExecutorID 45740a-0 - Getting results from functions\n",
            "\n",
            "100% 1/1 [00:02<00:00,  2.00s/it]\n",
            "\n",
            "2022-02-15 15:52:06,635 [INFO] lithops.executors -- ExecutorID 45740a-0 - Cleaning temporary data\n",
            "\n",
            "Hello root! Lithops is working as expected :)\n",
            "\n"
          ]
        }
      ],
      "source": [
        "# testing lithops\n",
        "! lithops test"
      ]
    },
    {
      "cell_type": "code",
      "execution_count": 3,
      "metadata": {
        "id": "sbGb8VxaNSB1"
      },
      "outputs": [],
      "source": [
        "# importing relevant packages\n",
        "\n",
        "# importing lithops\n",
        "import lithops\n",
        "from lithops import FunctionExecutor\n",
        "from lithops import Storage\n",
        "\n",
        "# general\n",
        "import os\n",
        "import io\n",
        "import time\n",
        "import random\n",
        "import warnings\n",
        "import threading\n",
        "import sqlite3\n",
        "import shutil\n",
        "\n",
        "# ml\n",
        "import numpy as np\n",
        "import scipy as sp\n",
        "import pandas as pd\n",
        "\n",
        "# visual\n",
        "import seaborn as sns\n",
        "import matplotlib.pyplot as plt\n",
        "\n",
        "# notebook\n",
        "from IPython.display import display\n",
        "\n",
        "# importing time measuring tools\n",
        "from timeit import timeit\n",
        "import time"
      ]
    },
    {
      "cell_type": "code",
      "execution_count": 4,
      "metadata": {
        "id": "pljYdlLqNzwM"
      },
      "outputs": [],
      "source": [
        "# configuring connection to IBM cloud\n",
        "\n",
        "endpoint = 'https://eu-gb.functions.cloud.ibm.com'\n",
        "namespace = 'oren.avidan@post.idc.ac.il_dev'\n",
        "api_key = '2f19a215-3fc6-492a-8329-8e51ea720d6c:n49jeGesU220XDcxk33JK65FlerI4DQ2N9IvVVjrnBX1zhojoWtWbT4LIPFOOh31'\n",
        "storage_bucket = 'big-data-project-oren-meital'\n",
        "region = 'eu-de'\n",
        "access_key = \"b8a563ccf8644ed6ad152140d2af83f1\" \n",
        "secret_key = \"264718d46208e4dd7a8c4b9e8720a3dcc182aa2e2c9b5c56\""
      ]
    },
    {
      "cell_type": "code",
      "execution_count": 5,
      "metadata": {
        "id": "hejejAlHviTi"
      },
      "outputs": [],
      "source": [
        "# configuring lithops against IBM cloud\n",
        "\n",
        "config = {'lithops': {'storage': 'ibm_cos'},\n",
        "\n",
        "          'ibm_cf':  {'endpoint': endpoint,\n",
        "                      'namespace': namespace,\n",
        "                      'api_key': api_key},\n",
        "\n",
        "          'ibm_cos': {'storage_bucket': storage_bucket,\n",
        "                      'region': region,\n",
        "                      'access_key' : access_key ,\n",
        "                      'secret_key' : secret_key }}\n"
      ]
    },
    {
      "cell_type": "code",
      "execution_count": 6,
      "metadata": {
        "id": "gmZXNHR5Sv7h",
        "colab": {
          "base_uri": "https://localhost:8080/",
          "referenced_widgets": [
            "64a1e70650f14fde834220b27b09962c",
            "94fab0cd2f51464289df56265d49988a",
            "539b9674f83a493d80c22ba393c70f36",
            "9636cff14c924bb39f72370cbf534bbf",
            "9c001496de31498da7aad56c48b69901",
            "1e8be264e83a499fa88ae91fd12bd091",
            "31e7d5ca6b614279865feafeadd6ea85",
            "752146a3bb5643a78024c1f1b16d7206",
            "01a5073c282044199789bdaab8093ef7",
            "76754aa3832f4c499d6fa24b687a2c26",
            "2dd6ba24f06d42249ae0c16969396015"
          ],
          "height": 240
        },
        "outputId": "afd5e361-148d-45cf-840e-8afa13b5f8af"
      },
      "outputs": [
        {
          "output_type": "stream",
          "name": "stderr",
          "text": [
            "2022-02-15 15:52:18,046 [INFO] lithops.config -- Lithops v2.5.8\n",
            "2022-02-15 15:52:18,164 [INFO] lithops.storage.backends.ibm_cos.ibm_cos -- IBM COS client created - Region: eu-de\n",
            "2022-02-15 15:52:18,166 [INFO] lithops.serverless.backends.ibm_cf.ibm_cf -- IBM CF client created - Region: eu-gb - Namespace: oren.avidan@post.idc.ac.il_dev\n",
            "2022-02-15 15:52:18,167 [INFO] lithops.invokers -- ExecutorID 0b462f-0 | JobID A000 - Selected Runtime: lithopscloud/ibmcf-python-v37 - 256MB\n",
            "2022-02-15 15:52:19,145 [INFO] lithops.invokers -- ExecutorID 0b462f-0 | JobID A000 - Starting function invocation: hello_world() - Total: 1 activations\n",
            "2022-02-15 15:52:19,148 [INFO] lithops.invokers -- ExecutorID 0b462f-0 | JobID A000 - View execution logs at /tmp/lithops/logs/0b462f-0-A000.log\n",
            "2022-02-15 15:52:19,152 [INFO] lithops.wait -- ExecutorID 0b462f-0 - Getting results from functions\n"
          ]
        },
        {
          "output_type": "stream",
          "name": "stdout",
          "text": [
            "\n"
          ]
        },
        {
          "output_type": "display_data",
          "data": {
            "application/vnd.jupyter.widget-view+json": {
              "model_id": "64a1e70650f14fde834220b27b09962c",
              "version_minor": 0,
              "version_major": 2
            },
            "text/plain": [
              "    0%|          | 0/1  "
            ]
          },
          "metadata": {}
        },
        {
          "output_type": "stream",
          "name": "stderr",
          "text": [
            "2022-02-15 15:52:22,368 [INFO] lithops.executors -- ExecutorID 0b462f-0 - Cleaning temporary data\n"
          ]
        },
        {
          "output_type": "stream",
          "name": "stdout",
          "text": [
            "\n",
            "Hello World!\n"
          ]
        }
      ],
      "source": [
        "# testing remote connection to IBM cloud (remote test) using lithops\n",
        "\n",
        "def hello_world(name):\n",
        "    return 'Hello {}!'.format(name)\n",
        "\n",
        "if __name__ == '__main__':\n",
        "    fexec = lithops.FunctionExecutor(config=config)\n",
        "    fexec.call_async(hello_world, 'World')\n",
        "    print(fexec.get_result())"
      ]
    },
    {
      "cell_type": "code",
      "execution_count": 7,
      "metadata": {
        "colab": {
          "base_uri": "https://localhost:8080/"
        },
        "id": "NLZkI9c1dPlH",
        "outputId": "83dd5668-7741-4d08-feb1-45340c4b8236"
      },
      "outputs": [
        {
          "output_type": "stream",
          "name": "stderr",
          "text": [
            "2022-02-15 15:52:22,460 [INFO] lithops.storage.backends.ibm_cos.ibm_cos -- IBM COS client created - Region: eu-de\n"
          ]
        }
      ],
      "source": [
        "# setting storage configuration for accessing files on cloud\n",
        "storage = Storage(config=config)\n"
      ]
    },
    {
      "cell_type": "code",
      "execution_count": 8,
      "metadata": {
        "colab": {
          "base_uri": "https://localhost:8080/"
        },
        "id": "yQj1MYZr0pol",
        "outputId": "e0f653bf-baab-4da4-f0e7-9586ffbee64c"
      },
      "outputs": [
        {
          "output_type": "execute_result",
          "data": {
            "text/plain": [
              "<sqlite3.Cursor at 0x7f5307871a40>"
            ]
          },
          "metadata": {},
          "execution_count": 8
        }
      ],
      "source": [
        "# create and connect to a new sqlite database\n",
        "conn = sqlite3.connect('my_db') \n",
        "c = conn.cursor()\n",
        "\n",
        "# create temp results table\n",
        "c.execute('''\n",
        "          CREATE TABLE IF NOT EXISTS temp_results (\n",
        "          key TEXT, \n",
        "          value TEXT\n",
        "          );'''\n",
        "         )"
      ]
    },
    {
      "cell_type": "code",
      "source": [
        "# defining aggregator switch which is True when there are small files\n",
        "aggregator_switch = False"
      ],
      "metadata": {
        "id": "22bGwYyq6DNt"
      },
      "execution_count": 9,
      "outputs": []
    },
    {
      "cell_type": "markdown",
      "source": [
        "# **#  Aggregator & MapReduce**\n",
        "This section includes the main functions of this demonstration."
      ],
      "metadata": {
        "id": "drhGqTyXhW0h"
      }
    },
    {
      "cell_type": "code",
      "source": [
        "# Define the minimum file size cut-off, by which we decide a file is \"small\".\n",
        "# Ideally, one would choose at least 64MB to simulate the size of a HDFS DataNode.\n",
        "# Here, for our mini-simulation, we chose a smaller cut-off.\n",
        "\n",
        "MIN_SIZE = 3.69e3"
      ],
      "metadata": {
        "id": "-jbLlPblm0zo"
      },
      "execution_count": 10,
      "outputs": []
    },
    {
      "cell_type": "code",
      "source": [
        "def aggregator():\n",
        "    \"\"\"\n",
        "    Function that gets data from the cloud, iterates over each file, and \n",
        "    aggregates any small files into large ones, according to the globally \n",
        "    defined variable MIN_SIZE.\n",
        "\n",
        "    :return: a list of the aggregated file names\n",
        "    :rtype: list(basestring)\n",
        "    \"\"\"\n",
        "\n",
        "    # initialize a new file for aggregated small files\n",
        "    with open('tmp.csv', 'w'):\n",
        "        pass\n",
        "\n",
        "    # creating a df that will hold the concatenated file, and then will be saved into csv\n",
        "    agg_df = pd.DataFrame(columns = ['firstname', 'secondname', 'city', 'originalfile'])\n",
        "    objects = storage.list_objects(bucket=storage_bucket, prefix='myCSV')\n",
        "    i = 0\n",
        "    aggregated_files= []\n",
        "\n",
        "    for obj in objects:\n",
        "        key = obj['Key']\n",
        "        size = obj['Size']\n",
        "\n",
        "        # if the size of the checked file is smaller than the defined size (64mb) we will add it to the aggregated file\n",
        "        # other wise it will be left to be handled by itself\n",
        "        if size < MIN_SIZE:\n",
        "                        \n",
        "            # get the data from the cloud in a df format\n",
        "            data = storage.get_object(bucket=storage_bucket, key=key, stream=False).decode(\"utf-8\")\n",
        "            data = data.replace('\\r', '')\n",
        "            df = pd.read_csv(io.StringIO(data), lineterminator='\\n', header=0)  \n",
        "            \n",
        "            # adding another column to the df with the name of the original file to keep it\n",
        "            df['originalfile'] = key \n",
        "            # to change back if we want to keep original files' names\n",
        "                        \n",
        "            # add the df to the agg df \n",
        "            agg_df = agg_df.append(df, ignore_index=True)\n",
        "            \n",
        "            # check the tmp file size\n",
        "            curr_size = os.path.getsize('tmp.csv')\n",
        "            \n",
        "            # save the df as a tmp.csv\n",
        "            csv = agg_df.to_csv('tmp.csv', mode='w', index=False)\n",
        "            \n",
        "            # if the tmp file is still small enough, then we want to keep adding content to the current aggregated file\n",
        "            if curr_size < MIN_SIZE:\n",
        "                # instead of appending to tmp, save agg_df as tmp\n",
        "                csv = agg_df.to_csv('tmp.csv', mode='w', index=False)\n",
        "\n",
        "            # otherwise, save the current aggregated file and make a new empty tmp\n",
        "            else:\n",
        "                aggregated = pd.read_csv('tmp.csv')\n",
        "                aggregated.to_csv(f'aggregated-{i}.csv', mode='w', index=False)\n",
        "                aggregated_files.append(f'aggregated-{i}.csv')\n",
        "                i += 1\n",
        "                with open('tmp.csv', 'w'):\n",
        "                    pass\n",
        "                \n",
        "                # reseting aggregated \n",
        "                agg_df = pd.DataFrame(columns = ['firstname', 'secondname', 'city', 'originalfile'])\n",
        "                csv = agg_df.to_csv('tmp.csv', mode='w', index=False)\n",
        "\n",
        "    aggregated_files.append(f'aggregated-{i}.csv')\n",
        "    aggregated.to_csv(f'aggregated-{i}.csv', mode='w', index=False)\n",
        "\n",
        "    return aggregated_files"
      ],
      "metadata": {
        "id": "Gm2VKxweP4hd"
      },
      "execution_count": 11,
      "outputs": []
    },
    {
      "cell_type": "code",
      "source": [
        "agg_files = aggregator()\n",
        "print(f'Created aggregated files: {agg_files}')"
      ],
      "metadata": {
        "colab": {
          "base_uri": "https://localhost:8080/"
        },
        "id": "daEwMV9djZGi",
        "outputId": "cc69bb90-94b4-47b9-df5f-12ad37b9bf5b"
      },
      "execution_count": 12,
      "outputs": [
        {
          "output_type": "stream",
          "name": "stdout",
          "text": [
            "Created aggregated files: ['aggregated-0.csv', 'aggregated-1.csv']\n"
          ]
        }
      ]
    },
    {
      "cell_type": "code",
      "execution_count": 13,
      "metadata": {
        "id": "tnnTb6Xk8WD_"
      },
      "outputs": [],
      "source": [
        "def inverted_map(document_name):\n",
        "    \"\"\"\n",
        "    Receives a name of a CSV file (firstname, secondname, city) and returns a list that contains entries of the form (key_value, document_name).\n",
        "    Recognizes special aggregated files and handles them accordingly.\n",
        "    Returns a list of the form [(key, doc name),(key, doc name),...]\n",
        "\n",
        "    :param document_name: the name of the csv file to process\n",
        "    :type document_name: basestring\n",
        "    :return: the inverted list of data\n",
        "    :rtype: list of tuples of strings\n",
        "    \"\"\"\n",
        "    if aggregator_switch == True:\n",
        "        data = pd.read_csv(document_name, index_col=False)\n",
        "        res = []\n",
        "\n",
        "        agg_firstname = pd.DataFrame(columns = ['key', 'document_name'])\n",
        "        agg_secondname = pd.DataFrame(columns = ['key', 'document_name'])\n",
        "        agg_city = pd.DataFrame(columns = ['key', 'document_name'])\n",
        "\n",
        "        agg_firstname['key']= 'firstname_' + data['firstname']\n",
        "        agg_firstname['document_name']= data['originalfile']\n",
        "\n",
        "        agg_secondname['key']= 'secondname_' + data['secondname']\n",
        "        agg_secondname['document_name']= data['originalfile']\n",
        "\n",
        "        agg_city['key']= 'city_' + data['city']\n",
        "        agg_city['document_name']= data['originalfile']\n",
        "        agg_converted = pd.concat([agg_firstname, agg_secondname, agg_city], ignore_index=True, axis=0)\n",
        "        records = agg_converted.values.tolist()\n",
        "        res = list(records)        \n",
        "\n",
        "    else:\n",
        "        data = pd.read_csv(document_name, index_col=False) \n",
        "        res=[]\n",
        "        for col, items in data.iteritems():\n",
        "            for item in items:\n",
        "                res.append((col + '_' + item, document_name))\n",
        "\n",
        "    return res"
      ]
    },
    {
      "cell_type": "code",
      "execution_count": 14,
      "metadata": {
        "id": "riWJ1O6t7Lax"
      },
      "outputs": [],
      "source": [
        "def inverted_reduce(data):\n",
        "    \"\"\"\n",
        "    Receives a list of the form ['value', 'documents...'] where documents contains duplicate csv names.\n",
        "    Returns a list of the form ['value', 'documents...'] with value and documents where documents contains no duplicates\n",
        "\n",
        "    :param data: the values and corresponding documents to process\n",
        "    :type data: list of tuples, first item being the value, second being the CSVs\n",
        "    :return: list of the form ['value', 'documents...'] with value and documents where documents contains no duplicates\n",
        "    :rtype: list of strings\n",
        "    \"\"\"\n",
        "    res = []\n",
        "    key, docs = data\n",
        "    unique_documents = ', '.join(list(set(docs.split(','))))\n",
        "    res.append([key, unique_documents])\n",
        "    return res"
      ]
    },
    {
      "cell_type": "code",
      "execution_count": 15,
      "metadata": {
        "id": "S3A0duj8TFMY"
      },
      "outputs": [],
      "source": [
        "class MapReduceServerlessEngine():\n",
        "    \"\"\"\n",
        "    Class that executes MapReduce based on lithops for map and reduce functions.\n",
        "    \"\"\"\n",
        "    def __init__(self):\n",
        "        pass\n",
        "\n",
        "    def execute (self, iterdata, map_function, reduce_function):\n",
        "        # map stage\n",
        "        print ('Start of mapping stage')\n",
        "        fexec = lithops.FunctionExecutor()\n",
        "        fexec.map(map_function = map_function, map_iterdata = iterdata)\n",
        "        mapped_data = fexec.get_result()\n",
        "        \n",
        "        # storing the results in the same SQLite as we used in MapReduceEngine\n",
        "        for seq in mapped_data:\n",
        "            data = pd.DataFrame(seq, columns =['key', 'value'])\n",
        "            data.to_sql('temp_results', conn, if_exists='append', index=False)\n",
        "\n",
        "        table_before_shuffling_sorting = c.execute('''\n",
        "                      SELECT *\n",
        "                      FROM temp_results;\n",
        "                      '''\n",
        "                    ).fetchall()\n",
        "\n",
        "        sorted_shuffled_data = c.execute('''\n",
        "                      SELECT key,\n",
        "                      GROUP_CONCAT(value) AS valueconcat\n",
        "                      FROM temp_results\n",
        "                      GROUP BY key \n",
        "                      ORDER BY key asc;\n",
        "                      '''\n",
        "                    ).fetchall()\n",
        "        \n",
        "\n",
        "        # converting from list of tuples to list of lists \n",
        "        #(due to a limitation of the map func of lithops)\n",
        "        sorted_shuffled_data = [list(seq) for seq in sorted_shuffled_data]\n",
        "        \n",
        "        # reduce stage\n",
        "        print ('Start of reducing stage')\n",
        "        fexec2 = lithops.FunctionExecutor()\n",
        "        fexec2.map(map_function = reduce_function , map_iterdata = sorted_shuffled_data)\n",
        "        reduced_data = fexec2.get_result()\n",
        "        reduced_data = np.squeeze(reduced_data)\n",
        "\n",
        "        # Return results of reduce tasks to the user\n",
        "        return reduced_data"
      ]
    },
    {
      "cell_type": "code",
      "execution_count": 16,
      "metadata": {
        "id": "I_jeGnFeXt8l"
      },
      "outputs": [],
      "source": [
        "def get_data_from_cloud (storage_bucket):\n",
        "    \"\"\"\n",
        "    :param storage_bucket: the cloud storage bucket\n",
        "    \"\"\"\n",
        "    # getting data from cloud and creating an iterable list that includes the \n",
        "    # names of the files we want to iter on later\n",
        "    iterdata = storage.list_keys(bucket = storage_bucket, prefix = 'myCSV')\n",
        "\n",
        "    for file_name in iterdata :\n",
        "        # get csv file from cloud\n",
        "        if __name__ == \"__main__\":\n",
        "            data = storage.get_object(bucket = storage_bucket, key = file_name, stream=False).decode(\"utf-8\")\n",
        "            data = data.replace('\\r', '')\n",
        "        # converting data to df\n",
        "        df = pd.read_csv(io.StringIO(data), lineterminator='\\n', header=0)\n",
        "        # saving pd to csv on local computer for further work\n",
        "        df.to_csv(file_name, index=False)\n",
        "\n",
        "    return iterdata"
      ]
    },
    {
      "cell_type": "markdown",
      "source": [
        "# **# Demonstration**\n",
        "\n",
        "Here, we demonstrate how using the aggregator on the small files before doing MapReduce shortens the execution time."
      ],
      "metadata": {
        "id": "BPN9DVpGhKtl"
      }
    },
    {
      "cell_type": "code",
      "source": [
        "# getting a list of files\n",
        "input_data = get_data_from_cloud(storage_bucket)"
      ],
      "metadata": {
        "id": "qpGpCGA7XcbV"
      },
      "execution_count": 17,
      "outputs": []
    },
    {
      "cell_type": "markdown",
      "source": [
        "Eexecuting MapReduce without small file aggregation"
      ],
      "metadata": {
        "id": "5vttVnLeDpLL"
      }
    },
    {
      "cell_type": "code",
      "execution_count": 18,
      "metadata": {
        "colab": {
          "base_uri": "https://localhost:8080/",
          "height": 463,
          "referenced_widgets": [
            "9b16a423d54a4ab1984ab37f54322953",
            "e60d69f6e7cb4f92a6ac79305b10747c",
            "c76cb4aa1de04178b199f5b00ad27a35",
            "da5aed7f61a542ac91a2adc0d92e9328",
            "4fcfd6484e324147b348982b495a399c",
            "d9207a15145c4e17aeaa39e1cb09cb39",
            "c1ae9c45bf1442d5bd01c4fe46faca6b",
            "2d88821c4d9c472283b6d86f3ba2f0c0",
            "be0077111feb4d8ebebcf7996577ad62",
            "43cf57bad6f5407bb8432cb1ee2a1848",
            "5a69704a049849eca3d2331f1f6998f5",
            "5db05999a76741b59a9cd1991fbb6fcd",
            "657e7c6ccf9b44abb15112098c67f040",
            "88ccdc8b9eef46b196b408881344a1db",
            "7d00e9dc78ba496095f7c1f650704ba0",
            "91bbeb16bce649e9bb3b2ca82d5db737",
            "80570d9701864654a052a1a7d76e259e",
            "5f074d63306144ee823e3d93ebab9288",
            "78a4717f6d8f4c418769e074182fd184",
            "637a6d206f7345aaa5fb84446d7665ac",
            "1f2937f6e8584b3ab44188257327b370",
            "da305069d20b4512b9480cc23debca18"
          ]
        },
        "id": "zfLV6bVQNlz0",
        "outputId": "8ea9c6c8-0fa8-44e4-b255-6d4d6bfd7f6d"
      },
      "outputs": [
        {
          "output_type": "stream",
          "name": "stderr",
          "text": [
            "2022-02-15 15:52:29,591 [INFO] lithops.config -- Lithops v2.5.8\n",
            "2022-02-15 15:52:29,598 [INFO] lithops.storage.backends.localhost.localhost -- Localhost storage client created\n",
            "2022-02-15 15:52:29,615 [INFO] lithops.localhost.localhost -- Localhost compute client created\n",
            "2022-02-15 15:52:29,618 [INFO] lithops.invokers -- ExecutorID 0b462f-1 | JobID M000 - Selected Runtime: python3 \n",
            "2022-02-15 15:52:29,647 [INFO] lithops.invokers -- ExecutorID 0b462f-1 | JobID M000 - Starting function invocation: inverted_map() - Total: 20 activations\n"
          ]
        },
        {
          "output_type": "stream",
          "name": "stdout",
          "text": [
            "Start of mapping stage\n"
          ]
        },
        {
          "output_type": "stream",
          "name": "stderr",
          "text": [
            "2022-02-15 15:52:29,803 [INFO] lithops.invokers -- ExecutorID 0b462f-1 | JobID M000 - View execution logs at /tmp/lithops/logs/0b462f-1-M000.log\n",
            "2022-02-15 15:52:29,832 [INFO] lithops.wait -- ExecutorID 0b462f-1 - Getting results from functions\n"
          ]
        },
        {
          "output_type": "stream",
          "name": "stdout",
          "text": [
            "\n"
          ]
        },
        {
          "output_type": "display_data",
          "data": {
            "application/vnd.jupyter.widget-view+json": {
              "model_id": "9b16a423d54a4ab1984ab37f54322953",
              "version_minor": 0,
              "version_major": 2
            },
            "text/plain": [
              "    0%|          | 0/20  "
            ]
          },
          "metadata": {}
        },
        {
          "output_type": "stream",
          "name": "stderr",
          "text": [
            "2022-02-15 15:52:38,220 [INFO] lithops.executors -- ExecutorID 0b462f-1 - Cleaning temporary data\n"
          ]
        },
        {
          "output_type": "stream",
          "name": "stdout",
          "text": [
            "\n"
          ]
        },
        {
          "output_type": "stream",
          "name": "stderr",
          "text": [
            "2022-02-15 15:52:38,750 [INFO] lithops.config -- Lithops v2.5.8\n",
            "2022-02-15 15:52:38,752 [INFO] lithops.storage.backends.localhost.localhost -- Localhost storage client created\n",
            "2022-02-15 15:52:38,754 [INFO] lithops.localhost.localhost -- Localhost compute client created\n",
            "2022-02-15 15:52:38,757 [INFO] lithops.invokers -- ExecutorID 0b462f-2 | JobID M000 - Selected Runtime: python3 \n",
            "2022-02-15 15:52:38,767 [INFO] lithops.invokers -- ExecutorID 0b462f-2 | JobID M000 - Starting function invocation: inverted_reduce() - Total: 26 activations\n",
            "2022-02-15 15:52:38,833 [INFO] lithops.invokers -- ExecutorID 0b462f-2 | JobID M000 - View execution logs at /tmp/lithops/logs/0b462f-2-M000.log\n",
            "2022-02-15 15:52:38,843 [INFO] lithops.wait -- ExecutorID 0b462f-2 - Getting results from functions\n"
          ]
        },
        {
          "output_type": "stream",
          "name": "stdout",
          "text": [
            "Start of reducing stage\n",
            "\n"
          ]
        },
        {
          "output_type": "display_data",
          "data": {
            "application/vnd.jupyter.widget-view+json": {
              "model_id": "5db05999a76741b59a9cd1991fbb6fcd",
              "version_minor": 0,
              "version_major": 2
            },
            "text/plain": [
              "    0%|          | 0/26  "
            ]
          },
          "metadata": {}
        },
        {
          "output_type": "stream",
          "name": "stderr",
          "text": [
            "2022-02-15 15:52:40,966 [INFO] lithops.executors -- ExecutorID 0b462f-2 - Cleaning temporary data\n"
          ]
        },
        {
          "output_type": "stream",
          "name": "stdout",
          "text": [
            "\n"
          ]
        }
      ],
      "source": [
        "# NO AGGREGATION\n",
        "\n",
        "mapreduce = MapReduceServerlessEngine()\n",
        "\n",
        "# executing\n",
        "start_time=time.perf_counter()\n",
        "results = mapreduce.execute(input_data, inverted_map, inverted_reduce)\n",
        "end_time=time.perf_counter()\n",
        "\n",
        "time_without_aggregation = end_time - start_time"
      ]
    },
    {
      "cell_type": "code",
      "source": [
        "print('Total time was', time_without_aggregation, 'seconds')"
      ],
      "metadata": {
        "colab": {
          "base_uri": "https://localhost:8080/"
        },
        "id": "l1Y0SKdHnAte",
        "outputId": "a05adf82-a112-4cb9-fa75-a28a91623964"
      },
      "execution_count": 19,
      "outputs": [
        {
          "output_type": "stream",
          "name": "stdout",
          "text": [
            "Total time was 11.386754593999996 seconds\n"
          ]
        }
      ]
    },
    {
      "cell_type": "markdown",
      "source": [
        "Executing MapReduce with small file aggregation"
      ],
      "metadata": {
        "id": "n1pLAYxIDuRH"
      }
    },
    {
      "cell_type": "code",
      "source": [
        "# WITH AGGREGATION\n",
        "\n",
        "mapreduce = MapReduceServerlessEngine()\n",
        "\n",
        "# aggregate small files to large files\n",
        "aggregated_file_names = aggregator()\n",
        "print(f'agg filenames {aggregated_file_names}')\n",
        "\n",
        "# executing\n",
        "start_time=time.perf_counter()\n",
        "results = mapreduce.execute(aggregated_file_names, inverted_map, inverted_reduce)\n",
        "end_time=time.perf_counter()"
      ],
      "metadata": {
        "colab": {
          "base_uri": "https://localhost:8080/",
          "height": 480,
          "referenced_widgets": [
            "e7a780811b8f4bc4b44b89e9910acfdc",
            "40d7d64bce2045168a47ddcaf7f2c47b",
            "44daee39b44d4620ba740ea19ef5fb35",
            "4621261ff6514f998297fd73fd35ab6b",
            "563e1c926d9a412980814d6f5a4e99c8",
            "36084f83c7414bd4b883252d21b40684",
            "b72f369dbce94ae19202af97c8539bae",
            "c01db1846f4648e6a2651d960b82d366",
            "13a553df624e4df9a97dd985ba91fc27",
            "cc12c290e6fa4e6baead0c40fe11cf9a",
            "02f2e9be13524130b29b973d72df8e1d",
            "0fac45dfac2647b190981ed50431c4e9",
            "58d9832fdba344b0bd7d1fb9052f0aed",
            "faf3bd03d8474adeb2a194c7fd3397f7",
            "403e2cbf611c4706963addcc1530f599",
            "75b9057553b54d5bbcd86fb03c306263",
            "9cda13b3f5904878a3cf483b043178b4",
            "474b5305e6834caabbb1810c471a2fb3",
            "8960eb0a720348b8b34ac7cf6bc81292",
            "fc27e0a0f1ef414abc1ccce380305609",
            "2dced58801eb4e7895cffc3a85169593",
            "d1fbcdf4dc044403b53a6f332b58bd72"
          ]
        },
        "id": "DPblcp8idALW",
        "outputId": "ad9e6f03-d80c-4349-908c-2c92a4aae3d4"
      },
      "execution_count": 20,
      "outputs": [
        {
          "output_type": "stream",
          "name": "stderr",
          "text": [
            "2022-02-15 15:52:43,975 [INFO] lithops.config -- Lithops v2.5.8\n",
            "2022-02-15 15:52:43,980 [INFO] lithops.storage.backends.localhost.localhost -- Localhost storage client created\n",
            "2022-02-15 15:52:43,984 [INFO] lithops.localhost.localhost -- Localhost compute client created\n",
            "2022-02-15 15:52:43,987 [INFO] lithops.invokers -- ExecutorID 0b462f-3 | JobID M000 - Selected Runtime: python3 \n",
            "2022-02-15 15:52:43,998 [INFO] lithops.invokers -- ExecutorID 0b462f-3 | JobID M000 - Starting function invocation: inverted_map() - Total: 2 activations\n",
            "2022-02-15 15:52:44,068 [INFO] lithops.invokers -- ExecutorID 0b462f-3 | JobID M000 - View execution logs at /tmp/lithops/logs/0b462f-3-M000.log\n",
            "2022-02-15 15:52:44,083 [INFO] lithops.wait -- ExecutorID 0b462f-3 - Getting results from functions\n"
          ]
        },
        {
          "output_type": "stream",
          "name": "stdout",
          "text": [
            "agg filenames ['aggregated-0.csv', 'aggregated-1.csv']\n",
            "Start of mapping stage\n",
            "\n"
          ]
        },
        {
          "output_type": "display_data",
          "data": {
            "application/vnd.jupyter.widget-view+json": {
              "model_id": "e7a780811b8f4bc4b44b89e9910acfdc",
              "version_minor": 0,
              "version_major": 2
            },
            "text/plain": [
              "    0%|          | 0/2  "
            ]
          },
          "metadata": {}
        },
        {
          "output_type": "stream",
          "name": "stderr",
          "text": [
            "2022-02-15 15:52:46,203 [INFO] lithops.executors -- ExecutorID 0b462f-3 - Cleaning temporary data\n",
            "2022-02-15 15:52:46,254 [INFO] lithops.config -- Lithops v2.5.8\n",
            "2022-02-15 15:52:46,257 [INFO] lithops.storage.backends.localhost.localhost -- Localhost storage client created\n",
            "2022-02-15 15:52:46,260 [INFO] lithops.localhost.localhost -- Localhost compute client created\n",
            "2022-02-15 15:52:46,264 [INFO] lithops.invokers -- ExecutorID 0b462f-4 | JobID M000 - Selected Runtime: python3 \n",
            "2022-02-15 15:52:46,277 [INFO] lithops.invokers -- ExecutorID 0b462f-4 | JobID M000 - Starting function invocation: inverted_reduce() - Total: 38 activations\n",
            "2022-02-15 15:52:46,343 [INFO] lithops.invokers -- ExecutorID 0b462f-4 | JobID M000 - View execution logs at /tmp/lithops/logs/0b462f-4-M000.log\n",
            "2022-02-15 15:52:46,361 [INFO] lithops.wait -- ExecutorID 0b462f-4 - Getting results from functions\n"
          ]
        },
        {
          "output_type": "stream",
          "name": "stdout",
          "text": [
            "\n",
            "Start of reducing stage\n",
            "\n"
          ]
        },
        {
          "output_type": "display_data",
          "data": {
            "application/vnd.jupyter.widget-view+json": {
              "model_id": "0fac45dfac2647b190981ed50431c4e9",
              "version_minor": 0,
              "version_major": 2
            },
            "text/plain": [
              "    0%|          | 0/38  "
            ]
          },
          "metadata": {}
        },
        {
          "output_type": "stream",
          "name": "stderr",
          "text": [
            "2022-02-15 15:52:48,574 [INFO] lithops.executors -- ExecutorID 0b462f-4 - Cleaning temporary data\n"
          ]
        },
        {
          "output_type": "stream",
          "name": "stdout",
          "text": [
            "\n"
          ]
        }
      ]
    },
    {
      "cell_type": "code",
      "source": [
        "time_with_aggregation = end_time - start_time\n",
        "print('Total time was', time_with_aggregation, 'seconds')"
      ],
      "metadata": {
        "colab": {
          "base_uri": "https://localhost:8080/"
        },
        "id": "CwSA-fNZ0WaW",
        "outputId": "501fb5b6-8dc9-48e1-c7f5-f9f8769fb348"
      },
      "execution_count": 21,
      "outputs": [
        {
          "output_type": "stream",
          "name": "stdout",
          "text": [
            "Total time was 4.605028007000016 seconds\n"
          ]
        }
      ]
    },
    {
      "cell_type": "markdown",
      "source": [
        "In this small demonstration, we saw that running MapReduce with aggregation of the small files is faster than without."
      ],
      "metadata": {
        "id": "CzrPftb0D7CT"
      }
    }
  ],
  "metadata": {
    "colab": {
      "collapsed_sections": [
        "-oQZat2qXt8g"
      ],
      "name": "Big Data - Final Project_204945323_304823735.ipynb",
      "provenance": []
    },
    "kernelspec": {
      "display_name": "Python 3",
      "language": "python",
      "name": "python3"
    },
    "language_info": {
      "codemirror_mode": {
        "name": "ipython",
        "version": 3
      },
      "file_extension": ".py",
      "mimetype": "text/x-python",
      "name": "python",
      "nbconvert_exporter": "python",
      "pygments_lexer": "ipython3",
      "version": "3.8.8"
    },
    "widgets": {
      "application/vnd.jupyter.widget-state+json": {
        "64a1e70650f14fde834220b27b09962c": {
          "model_module": "@jupyter-widgets/controls",
          "model_name": "HBoxModel",
          "model_module_version": "1.5.0",
          "state": {
            "_view_name": "HBoxView",
            "_dom_classes": [],
            "_model_name": "HBoxModel",
            "_view_module": "@jupyter-widgets/controls",
            "_model_module_version": "1.5.0",
            "_view_count": null,
            "_view_module_version": "1.5.0",
            "box_style": "",
            "layout": "IPY_MODEL_94fab0cd2f51464289df56265d49988a",
            "_model_module": "@jupyter-widgets/controls",
            "children": [
              "IPY_MODEL_539b9674f83a493d80c22ba393c70f36",
              "IPY_MODEL_9636cff14c924bb39f72370cbf534bbf",
              "IPY_MODEL_9c001496de31498da7aad56c48b69901"
            ]
          }
        },
        "94fab0cd2f51464289df56265d49988a": {
          "model_module": "@jupyter-widgets/base",
          "model_name": "LayoutModel",
          "model_module_version": "1.2.0",
          "state": {
            "_view_name": "LayoutView",
            "grid_template_rows": null,
            "right": null,
            "justify_content": null,
            "_view_module": "@jupyter-widgets/base",
            "overflow": null,
            "_model_module_version": "1.2.0",
            "_view_count": null,
            "flex_flow": null,
            "width": null,
            "min_width": null,
            "border": null,
            "align_items": null,
            "bottom": null,
            "_model_module": "@jupyter-widgets/base",
            "top": null,
            "grid_column": null,
            "overflow_y": null,
            "overflow_x": null,
            "grid_auto_flow": null,
            "grid_area": null,
            "grid_template_columns": null,
            "flex": null,
            "_model_name": "LayoutModel",
            "justify_items": null,
            "grid_row": null,
            "max_height": null,
            "align_content": null,
            "visibility": null,
            "align_self": null,
            "height": null,
            "min_height": null,
            "padding": null,
            "grid_auto_rows": null,
            "grid_gap": null,
            "max_width": null,
            "order": null,
            "_view_module_version": "1.2.0",
            "grid_template_areas": null,
            "object_position": null,
            "object_fit": null,
            "grid_auto_columns": null,
            "margin": null,
            "display": null,
            "left": null
          }
        },
        "539b9674f83a493d80c22ba393c70f36": {
          "model_module": "@jupyter-widgets/controls",
          "model_name": "HTMLModel",
          "model_module_version": "1.5.0",
          "state": {
            "_view_name": "HTMLView",
            "style": "IPY_MODEL_1e8be264e83a499fa88ae91fd12bd091",
            "_dom_classes": [],
            "description": "",
            "_model_name": "HTMLModel",
            "placeholder": "​",
            "_view_module": "@jupyter-widgets/controls",
            "_model_module_version": "1.5.0",
            "value": "  100%",
            "_view_count": null,
            "_view_module_version": "1.5.0",
            "description_tooltip": null,
            "_model_module": "@jupyter-widgets/controls",
            "layout": "IPY_MODEL_31e7d5ca6b614279865feafeadd6ea85"
          }
        },
        "9636cff14c924bb39f72370cbf534bbf": {
          "model_module": "@jupyter-widgets/controls",
          "model_name": "FloatProgressModel",
          "model_module_version": "1.5.0",
          "state": {
            "_view_name": "ProgressView",
            "style": "IPY_MODEL_752146a3bb5643a78024c1f1b16d7206",
            "_dom_classes": [],
            "description": "",
            "_model_name": "FloatProgressModel",
            "bar_style": "success",
            "max": 1,
            "_view_module": "@jupyter-widgets/controls",
            "_model_module_version": "1.5.0",
            "value": 1,
            "_view_count": null,
            "_view_module_version": "1.5.0",
            "orientation": "horizontal",
            "min": 0,
            "description_tooltip": null,
            "_model_module": "@jupyter-widgets/controls",
            "layout": "IPY_MODEL_01a5073c282044199789bdaab8093ef7"
          }
        },
        "9c001496de31498da7aad56c48b69901": {
          "model_module": "@jupyter-widgets/controls",
          "model_name": "HTMLModel",
          "model_module_version": "1.5.0",
          "state": {
            "_view_name": "HTMLView",
            "style": "IPY_MODEL_76754aa3832f4c499d6fa24b687a2c26",
            "_dom_classes": [],
            "description": "",
            "_model_name": "HTMLModel",
            "placeholder": "​",
            "_view_module": "@jupyter-widgets/controls",
            "_model_module_version": "1.5.0",
            "value": " 1/1  ",
            "_view_count": null,
            "_view_module_version": "1.5.0",
            "description_tooltip": null,
            "_model_module": "@jupyter-widgets/controls",
            "layout": "IPY_MODEL_2dd6ba24f06d42249ae0c16969396015"
          }
        },
        "1e8be264e83a499fa88ae91fd12bd091": {
          "model_module": "@jupyter-widgets/controls",
          "model_name": "DescriptionStyleModel",
          "model_module_version": "1.5.0",
          "state": {
            "_view_name": "StyleView",
            "_model_name": "DescriptionStyleModel",
            "description_width": "",
            "_view_module": "@jupyter-widgets/base",
            "_model_module_version": "1.5.0",
            "_view_count": null,
            "_view_module_version": "1.2.0",
            "_model_module": "@jupyter-widgets/controls"
          }
        },
        "31e7d5ca6b614279865feafeadd6ea85": {
          "model_module": "@jupyter-widgets/base",
          "model_name": "LayoutModel",
          "model_module_version": "1.2.0",
          "state": {
            "_view_name": "LayoutView",
            "grid_template_rows": null,
            "right": null,
            "justify_content": null,
            "_view_module": "@jupyter-widgets/base",
            "overflow": null,
            "_model_module_version": "1.2.0",
            "_view_count": null,
            "flex_flow": null,
            "width": null,
            "min_width": null,
            "border": null,
            "align_items": null,
            "bottom": null,
            "_model_module": "@jupyter-widgets/base",
            "top": null,
            "grid_column": null,
            "overflow_y": null,
            "overflow_x": null,
            "grid_auto_flow": null,
            "grid_area": null,
            "grid_template_columns": null,
            "flex": null,
            "_model_name": "LayoutModel",
            "justify_items": null,
            "grid_row": null,
            "max_height": null,
            "align_content": null,
            "visibility": null,
            "align_self": null,
            "height": null,
            "min_height": null,
            "padding": null,
            "grid_auto_rows": null,
            "grid_gap": null,
            "max_width": null,
            "order": null,
            "_view_module_version": "1.2.0",
            "grid_template_areas": null,
            "object_position": null,
            "object_fit": null,
            "grid_auto_columns": null,
            "margin": null,
            "display": null,
            "left": null
          }
        },
        "752146a3bb5643a78024c1f1b16d7206": {
          "model_module": "@jupyter-widgets/controls",
          "model_name": "ProgressStyleModel",
          "model_module_version": "1.5.0",
          "state": {
            "_view_name": "StyleView",
            "_model_name": "ProgressStyleModel",
            "description_width": "",
            "_view_module": "@jupyter-widgets/base",
            "_model_module_version": "1.5.0",
            "_view_count": null,
            "_view_module_version": "1.2.0",
            "bar_color": null,
            "_model_module": "@jupyter-widgets/controls"
          }
        },
        "01a5073c282044199789bdaab8093ef7": {
          "model_module": "@jupyter-widgets/base",
          "model_name": "LayoutModel",
          "model_module_version": "1.2.0",
          "state": {
            "_view_name": "LayoutView",
            "grid_template_rows": null,
            "right": null,
            "justify_content": null,
            "_view_module": "@jupyter-widgets/base",
            "overflow": null,
            "_model_module_version": "1.2.0",
            "_view_count": null,
            "flex_flow": null,
            "width": null,
            "min_width": null,
            "border": null,
            "align_items": null,
            "bottom": null,
            "_model_module": "@jupyter-widgets/base",
            "top": null,
            "grid_column": null,
            "overflow_y": null,
            "overflow_x": null,
            "grid_auto_flow": null,
            "grid_area": null,
            "grid_template_columns": null,
            "flex": null,
            "_model_name": "LayoutModel",
            "justify_items": null,
            "grid_row": null,
            "max_height": null,
            "align_content": null,
            "visibility": null,
            "align_self": null,
            "height": null,
            "min_height": null,
            "padding": null,
            "grid_auto_rows": null,
            "grid_gap": null,
            "max_width": null,
            "order": null,
            "_view_module_version": "1.2.0",
            "grid_template_areas": null,
            "object_position": null,
            "object_fit": null,
            "grid_auto_columns": null,
            "margin": null,
            "display": null,
            "left": null
          }
        },
        "76754aa3832f4c499d6fa24b687a2c26": {
          "model_module": "@jupyter-widgets/controls",
          "model_name": "DescriptionStyleModel",
          "model_module_version": "1.5.0",
          "state": {
            "_view_name": "StyleView",
            "_model_name": "DescriptionStyleModel",
            "description_width": "",
            "_view_module": "@jupyter-widgets/base",
            "_model_module_version": "1.5.0",
            "_view_count": null,
            "_view_module_version": "1.2.0",
            "_model_module": "@jupyter-widgets/controls"
          }
        },
        "2dd6ba24f06d42249ae0c16969396015": {
          "model_module": "@jupyter-widgets/base",
          "model_name": "LayoutModel",
          "model_module_version": "1.2.0",
          "state": {
            "_view_name": "LayoutView",
            "grid_template_rows": null,
            "right": null,
            "justify_content": null,
            "_view_module": "@jupyter-widgets/base",
            "overflow": null,
            "_model_module_version": "1.2.0",
            "_view_count": null,
            "flex_flow": null,
            "width": null,
            "min_width": null,
            "border": null,
            "align_items": null,
            "bottom": null,
            "_model_module": "@jupyter-widgets/base",
            "top": null,
            "grid_column": null,
            "overflow_y": null,
            "overflow_x": null,
            "grid_auto_flow": null,
            "grid_area": null,
            "grid_template_columns": null,
            "flex": null,
            "_model_name": "LayoutModel",
            "justify_items": null,
            "grid_row": null,
            "max_height": null,
            "align_content": null,
            "visibility": null,
            "align_self": null,
            "height": null,
            "min_height": null,
            "padding": null,
            "grid_auto_rows": null,
            "grid_gap": null,
            "max_width": null,
            "order": null,
            "_view_module_version": "1.2.0",
            "grid_template_areas": null,
            "object_position": null,
            "object_fit": null,
            "grid_auto_columns": null,
            "margin": null,
            "display": null,
            "left": null
          }
        },
        "9b16a423d54a4ab1984ab37f54322953": {
          "model_module": "@jupyter-widgets/controls",
          "model_name": "HBoxModel",
          "model_module_version": "1.5.0",
          "state": {
            "_view_name": "HBoxView",
            "_dom_classes": [],
            "_model_name": "HBoxModel",
            "_view_module": "@jupyter-widgets/controls",
            "_model_module_version": "1.5.0",
            "_view_count": null,
            "_view_module_version": "1.5.0",
            "box_style": "",
            "layout": "IPY_MODEL_e60d69f6e7cb4f92a6ac79305b10747c",
            "_model_module": "@jupyter-widgets/controls",
            "children": [
              "IPY_MODEL_c76cb4aa1de04178b199f5b00ad27a35",
              "IPY_MODEL_da5aed7f61a542ac91a2adc0d92e9328",
              "IPY_MODEL_4fcfd6484e324147b348982b495a399c"
            ]
          }
        },
        "e60d69f6e7cb4f92a6ac79305b10747c": {
          "model_module": "@jupyter-widgets/base",
          "model_name": "LayoutModel",
          "model_module_version": "1.2.0",
          "state": {
            "_view_name": "LayoutView",
            "grid_template_rows": null,
            "right": null,
            "justify_content": null,
            "_view_module": "@jupyter-widgets/base",
            "overflow": null,
            "_model_module_version": "1.2.0",
            "_view_count": null,
            "flex_flow": null,
            "width": null,
            "min_width": null,
            "border": null,
            "align_items": null,
            "bottom": null,
            "_model_module": "@jupyter-widgets/base",
            "top": null,
            "grid_column": null,
            "overflow_y": null,
            "overflow_x": null,
            "grid_auto_flow": null,
            "grid_area": null,
            "grid_template_columns": null,
            "flex": null,
            "_model_name": "LayoutModel",
            "justify_items": null,
            "grid_row": null,
            "max_height": null,
            "align_content": null,
            "visibility": null,
            "align_self": null,
            "height": null,
            "min_height": null,
            "padding": null,
            "grid_auto_rows": null,
            "grid_gap": null,
            "max_width": null,
            "order": null,
            "_view_module_version": "1.2.0",
            "grid_template_areas": null,
            "object_position": null,
            "object_fit": null,
            "grid_auto_columns": null,
            "margin": null,
            "display": null,
            "left": null
          }
        },
        "c76cb4aa1de04178b199f5b00ad27a35": {
          "model_module": "@jupyter-widgets/controls",
          "model_name": "HTMLModel",
          "model_module_version": "1.5.0",
          "state": {
            "_view_name": "HTMLView",
            "style": "IPY_MODEL_d9207a15145c4e17aeaa39e1cb09cb39",
            "_dom_classes": [],
            "description": "",
            "_model_name": "HTMLModel",
            "placeholder": "​",
            "_view_module": "@jupyter-widgets/controls",
            "_model_module_version": "1.5.0",
            "value": "  100%",
            "_view_count": null,
            "_view_module_version": "1.5.0",
            "description_tooltip": null,
            "_model_module": "@jupyter-widgets/controls",
            "layout": "IPY_MODEL_c1ae9c45bf1442d5bd01c4fe46faca6b"
          }
        },
        "da5aed7f61a542ac91a2adc0d92e9328": {
          "model_module": "@jupyter-widgets/controls",
          "model_name": "FloatProgressModel",
          "model_module_version": "1.5.0",
          "state": {
            "_view_name": "ProgressView",
            "style": "IPY_MODEL_2d88821c4d9c472283b6d86f3ba2f0c0",
            "_dom_classes": [],
            "description": "",
            "_model_name": "FloatProgressModel",
            "bar_style": "success",
            "max": 20,
            "_view_module": "@jupyter-widgets/controls",
            "_model_module_version": "1.5.0",
            "value": 20,
            "_view_count": null,
            "_view_module_version": "1.5.0",
            "orientation": "horizontal",
            "min": 0,
            "description_tooltip": null,
            "_model_module": "@jupyter-widgets/controls",
            "layout": "IPY_MODEL_be0077111feb4d8ebebcf7996577ad62"
          }
        },
        "4fcfd6484e324147b348982b495a399c": {
          "model_module": "@jupyter-widgets/controls",
          "model_name": "HTMLModel",
          "model_module_version": "1.5.0",
          "state": {
            "_view_name": "HTMLView",
            "style": "IPY_MODEL_43cf57bad6f5407bb8432cb1ee2a1848",
            "_dom_classes": [],
            "description": "",
            "_model_name": "HTMLModel",
            "placeholder": "​",
            "_view_module": "@jupyter-widgets/controls",
            "_model_module_version": "1.5.0",
            "value": " 20/20  ",
            "_view_count": null,
            "_view_module_version": "1.5.0",
            "description_tooltip": null,
            "_model_module": "@jupyter-widgets/controls",
            "layout": "IPY_MODEL_5a69704a049849eca3d2331f1f6998f5"
          }
        },
        "d9207a15145c4e17aeaa39e1cb09cb39": {
          "model_module": "@jupyter-widgets/controls",
          "model_name": "DescriptionStyleModel",
          "model_module_version": "1.5.0",
          "state": {
            "_view_name": "StyleView",
            "_model_name": "DescriptionStyleModel",
            "description_width": "",
            "_view_module": "@jupyter-widgets/base",
            "_model_module_version": "1.5.0",
            "_view_count": null,
            "_view_module_version": "1.2.0",
            "_model_module": "@jupyter-widgets/controls"
          }
        },
        "c1ae9c45bf1442d5bd01c4fe46faca6b": {
          "model_module": "@jupyter-widgets/base",
          "model_name": "LayoutModel",
          "model_module_version": "1.2.0",
          "state": {
            "_view_name": "LayoutView",
            "grid_template_rows": null,
            "right": null,
            "justify_content": null,
            "_view_module": "@jupyter-widgets/base",
            "overflow": null,
            "_model_module_version": "1.2.0",
            "_view_count": null,
            "flex_flow": null,
            "width": null,
            "min_width": null,
            "border": null,
            "align_items": null,
            "bottom": null,
            "_model_module": "@jupyter-widgets/base",
            "top": null,
            "grid_column": null,
            "overflow_y": null,
            "overflow_x": null,
            "grid_auto_flow": null,
            "grid_area": null,
            "grid_template_columns": null,
            "flex": null,
            "_model_name": "LayoutModel",
            "justify_items": null,
            "grid_row": null,
            "max_height": null,
            "align_content": null,
            "visibility": null,
            "align_self": null,
            "height": null,
            "min_height": null,
            "padding": null,
            "grid_auto_rows": null,
            "grid_gap": null,
            "max_width": null,
            "order": null,
            "_view_module_version": "1.2.0",
            "grid_template_areas": null,
            "object_position": null,
            "object_fit": null,
            "grid_auto_columns": null,
            "margin": null,
            "display": null,
            "left": null
          }
        },
        "2d88821c4d9c472283b6d86f3ba2f0c0": {
          "model_module": "@jupyter-widgets/controls",
          "model_name": "ProgressStyleModel",
          "model_module_version": "1.5.0",
          "state": {
            "_view_name": "StyleView",
            "_model_name": "ProgressStyleModel",
            "description_width": "",
            "_view_module": "@jupyter-widgets/base",
            "_model_module_version": "1.5.0",
            "_view_count": null,
            "_view_module_version": "1.2.0",
            "bar_color": null,
            "_model_module": "@jupyter-widgets/controls"
          }
        },
        "be0077111feb4d8ebebcf7996577ad62": {
          "model_module": "@jupyter-widgets/base",
          "model_name": "LayoutModel",
          "model_module_version": "1.2.0",
          "state": {
            "_view_name": "LayoutView",
            "grid_template_rows": null,
            "right": null,
            "justify_content": null,
            "_view_module": "@jupyter-widgets/base",
            "overflow": null,
            "_model_module_version": "1.2.0",
            "_view_count": null,
            "flex_flow": null,
            "width": null,
            "min_width": null,
            "border": null,
            "align_items": null,
            "bottom": null,
            "_model_module": "@jupyter-widgets/base",
            "top": null,
            "grid_column": null,
            "overflow_y": null,
            "overflow_x": null,
            "grid_auto_flow": null,
            "grid_area": null,
            "grid_template_columns": null,
            "flex": null,
            "_model_name": "LayoutModel",
            "justify_items": null,
            "grid_row": null,
            "max_height": null,
            "align_content": null,
            "visibility": null,
            "align_self": null,
            "height": null,
            "min_height": null,
            "padding": null,
            "grid_auto_rows": null,
            "grid_gap": null,
            "max_width": null,
            "order": null,
            "_view_module_version": "1.2.0",
            "grid_template_areas": null,
            "object_position": null,
            "object_fit": null,
            "grid_auto_columns": null,
            "margin": null,
            "display": null,
            "left": null
          }
        },
        "43cf57bad6f5407bb8432cb1ee2a1848": {
          "model_module": "@jupyter-widgets/controls",
          "model_name": "DescriptionStyleModel",
          "model_module_version": "1.5.0",
          "state": {
            "_view_name": "StyleView",
            "_model_name": "DescriptionStyleModel",
            "description_width": "",
            "_view_module": "@jupyter-widgets/base",
            "_model_module_version": "1.5.0",
            "_view_count": null,
            "_view_module_version": "1.2.0",
            "_model_module": "@jupyter-widgets/controls"
          }
        },
        "5a69704a049849eca3d2331f1f6998f5": {
          "model_module": "@jupyter-widgets/base",
          "model_name": "LayoutModel",
          "model_module_version": "1.2.0",
          "state": {
            "_view_name": "LayoutView",
            "grid_template_rows": null,
            "right": null,
            "justify_content": null,
            "_view_module": "@jupyter-widgets/base",
            "overflow": null,
            "_model_module_version": "1.2.0",
            "_view_count": null,
            "flex_flow": null,
            "width": null,
            "min_width": null,
            "border": null,
            "align_items": null,
            "bottom": null,
            "_model_module": "@jupyter-widgets/base",
            "top": null,
            "grid_column": null,
            "overflow_y": null,
            "overflow_x": null,
            "grid_auto_flow": null,
            "grid_area": null,
            "grid_template_columns": null,
            "flex": null,
            "_model_name": "LayoutModel",
            "justify_items": null,
            "grid_row": null,
            "max_height": null,
            "align_content": null,
            "visibility": null,
            "align_self": null,
            "height": null,
            "min_height": null,
            "padding": null,
            "grid_auto_rows": null,
            "grid_gap": null,
            "max_width": null,
            "order": null,
            "_view_module_version": "1.2.0",
            "grid_template_areas": null,
            "object_position": null,
            "object_fit": null,
            "grid_auto_columns": null,
            "margin": null,
            "display": null,
            "left": null
          }
        },
        "5db05999a76741b59a9cd1991fbb6fcd": {
          "model_module": "@jupyter-widgets/controls",
          "model_name": "HBoxModel",
          "model_module_version": "1.5.0",
          "state": {
            "_view_name": "HBoxView",
            "_dom_classes": [],
            "_model_name": "HBoxModel",
            "_view_module": "@jupyter-widgets/controls",
            "_model_module_version": "1.5.0",
            "_view_count": null,
            "_view_module_version": "1.5.0",
            "box_style": "",
            "layout": "IPY_MODEL_657e7c6ccf9b44abb15112098c67f040",
            "_model_module": "@jupyter-widgets/controls",
            "children": [
              "IPY_MODEL_88ccdc8b9eef46b196b408881344a1db",
              "IPY_MODEL_7d00e9dc78ba496095f7c1f650704ba0",
              "IPY_MODEL_91bbeb16bce649e9bb3b2ca82d5db737"
            ]
          }
        },
        "657e7c6ccf9b44abb15112098c67f040": {
          "model_module": "@jupyter-widgets/base",
          "model_name": "LayoutModel",
          "model_module_version": "1.2.0",
          "state": {
            "_view_name": "LayoutView",
            "grid_template_rows": null,
            "right": null,
            "justify_content": null,
            "_view_module": "@jupyter-widgets/base",
            "overflow": null,
            "_model_module_version": "1.2.0",
            "_view_count": null,
            "flex_flow": null,
            "width": null,
            "min_width": null,
            "border": null,
            "align_items": null,
            "bottom": null,
            "_model_module": "@jupyter-widgets/base",
            "top": null,
            "grid_column": null,
            "overflow_y": null,
            "overflow_x": null,
            "grid_auto_flow": null,
            "grid_area": null,
            "grid_template_columns": null,
            "flex": null,
            "_model_name": "LayoutModel",
            "justify_items": null,
            "grid_row": null,
            "max_height": null,
            "align_content": null,
            "visibility": null,
            "align_self": null,
            "height": null,
            "min_height": null,
            "padding": null,
            "grid_auto_rows": null,
            "grid_gap": null,
            "max_width": null,
            "order": null,
            "_view_module_version": "1.2.0",
            "grid_template_areas": null,
            "object_position": null,
            "object_fit": null,
            "grid_auto_columns": null,
            "margin": null,
            "display": null,
            "left": null
          }
        },
        "88ccdc8b9eef46b196b408881344a1db": {
          "model_module": "@jupyter-widgets/controls",
          "model_name": "HTMLModel",
          "model_module_version": "1.5.0",
          "state": {
            "_view_name": "HTMLView",
            "style": "IPY_MODEL_80570d9701864654a052a1a7d76e259e",
            "_dom_classes": [],
            "description": "",
            "_model_name": "HTMLModel",
            "placeholder": "​",
            "_view_module": "@jupyter-widgets/controls",
            "_model_module_version": "1.5.0",
            "value": "  100%",
            "_view_count": null,
            "_view_module_version": "1.5.0",
            "description_tooltip": null,
            "_model_module": "@jupyter-widgets/controls",
            "layout": "IPY_MODEL_5f074d63306144ee823e3d93ebab9288"
          }
        },
        "7d00e9dc78ba496095f7c1f650704ba0": {
          "model_module": "@jupyter-widgets/controls",
          "model_name": "FloatProgressModel",
          "model_module_version": "1.5.0",
          "state": {
            "_view_name": "ProgressView",
            "style": "IPY_MODEL_78a4717f6d8f4c418769e074182fd184",
            "_dom_classes": [],
            "description": "",
            "_model_name": "FloatProgressModel",
            "bar_style": "success",
            "max": 26,
            "_view_module": "@jupyter-widgets/controls",
            "_model_module_version": "1.5.0",
            "value": 26,
            "_view_count": null,
            "_view_module_version": "1.5.0",
            "orientation": "horizontal",
            "min": 0,
            "description_tooltip": null,
            "_model_module": "@jupyter-widgets/controls",
            "layout": "IPY_MODEL_637a6d206f7345aaa5fb84446d7665ac"
          }
        },
        "91bbeb16bce649e9bb3b2ca82d5db737": {
          "model_module": "@jupyter-widgets/controls",
          "model_name": "HTMLModel",
          "model_module_version": "1.5.0",
          "state": {
            "_view_name": "HTMLView",
            "style": "IPY_MODEL_1f2937f6e8584b3ab44188257327b370",
            "_dom_classes": [],
            "description": "",
            "_model_name": "HTMLModel",
            "placeholder": "​",
            "_view_module": "@jupyter-widgets/controls",
            "_model_module_version": "1.5.0",
            "value": " 26/26  ",
            "_view_count": null,
            "_view_module_version": "1.5.0",
            "description_tooltip": null,
            "_model_module": "@jupyter-widgets/controls",
            "layout": "IPY_MODEL_da305069d20b4512b9480cc23debca18"
          }
        },
        "80570d9701864654a052a1a7d76e259e": {
          "model_module": "@jupyter-widgets/controls",
          "model_name": "DescriptionStyleModel",
          "model_module_version": "1.5.0",
          "state": {
            "_view_name": "StyleView",
            "_model_name": "DescriptionStyleModel",
            "description_width": "",
            "_view_module": "@jupyter-widgets/base",
            "_model_module_version": "1.5.0",
            "_view_count": null,
            "_view_module_version": "1.2.0",
            "_model_module": "@jupyter-widgets/controls"
          }
        },
        "5f074d63306144ee823e3d93ebab9288": {
          "model_module": "@jupyter-widgets/base",
          "model_name": "LayoutModel",
          "model_module_version": "1.2.0",
          "state": {
            "_view_name": "LayoutView",
            "grid_template_rows": null,
            "right": null,
            "justify_content": null,
            "_view_module": "@jupyter-widgets/base",
            "overflow": null,
            "_model_module_version": "1.2.0",
            "_view_count": null,
            "flex_flow": null,
            "width": null,
            "min_width": null,
            "border": null,
            "align_items": null,
            "bottom": null,
            "_model_module": "@jupyter-widgets/base",
            "top": null,
            "grid_column": null,
            "overflow_y": null,
            "overflow_x": null,
            "grid_auto_flow": null,
            "grid_area": null,
            "grid_template_columns": null,
            "flex": null,
            "_model_name": "LayoutModel",
            "justify_items": null,
            "grid_row": null,
            "max_height": null,
            "align_content": null,
            "visibility": null,
            "align_self": null,
            "height": null,
            "min_height": null,
            "padding": null,
            "grid_auto_rows": null,
            "grid_gap": null,
            "max_width": null,
            "order": null,
            "_view_module_version": "1.2.0",
            "grid_template_areas": null,
            "object_position": null,
            "object_fit": null,
            "grid_auto_columns": null,
            "margin": null,
            "display": null,
            "left": null
          }
        },
        "78a4717f6d8f4c418769e074182fd184": {
          "model_module": "@jupyter-widgets/controls",
          "model_name": "ProgressStyleModel",
          "model_module_version": "1.5.0",
          "state": {
            "_view_name": "StyleView",
            "_model_name": "ProgressStyleModel",
            "description_width": "",
            "_view_module": "@jupyter-widgets/base",
            "_model_module_version": "1.5.0",
            "_view_count": null,
            "_view_module_version": "1.2.0",
            "bar_color": null,
            "_model_module": "@jupyter-widgets/controls"
          }
        },
        "637a6d206f7345aaa5fb84446d7665ac": {
          "model_module": "@jupyter-widgets/base",
          "model_name": "LayoutModel",
          "model_module_version": "1.2.0",
          "state": {
            "_view_name": "LayoutView",
            "grid_template_rows": null,
            "right": null,
            "justify_content": null,
            "_view_module": "@jupyter-widgets/base",
            "overflow": null,
            "_model_module_version": "1.2.0",
            "_view_count": null,
            "flex_flow": null,
            "width": null,
            "min_width": null,
            "border": null,
            "align_items": null,
            "bottom": null,
            "_model_module": "@jupyter-widgets/base",
            "top": null,
            "grid_column": null,
            "overflow_y": null,
            "overflow_x": null,
            "grid_auto_flow": null,
            "grid_area": null,
            "grid_template_columns": null,
            "flex": null,
            "_model_name": "LayoutModel",
            "justify_items": null,
            "grid_row": null,
            "max_height": null,
            "align_content": null,
            "visibility": null,
            "align_self": null,
            "height": null,
            "min_height": null,
            "padding": null,
            "grid_auto_rows": null,
            "grid_gap": null,
            "max_width": null,
            "order": null,
            "_view_module_version": "1.2.0",
            "grid_template_areas": null,
            "object_position": null,
            "object_fit": null,
            "grid_auto_columns": null,
            "margin": null,
            "display": null,
            "left": null
          }
        },
        "1f2937f6e8584b3ab44188257327b370": {
          "model_module": "@jupyter-widgets/controls",
          "model_name": "DescriptionStyleModel",
          "model_module_version": "1.5.0",
          "state": {
            "_view_name": "StyleView",
            "_model_name": "DescriptionStyleModel",
            "description_width": "",
            "_view_module": "@jupyter-widgets/base",
            "_model_module_version": "1.5.0",
            "_view_count": null,
            "_view_module_version": "1.2.0",
            "_model_module": "@jupyter-widgets/controls"
          }
        },
        "da305069d20b4512b9480cc23debca18": {
          "model_module": "@jupyter-widgets/base",
          "model_name": "LayoutModel",
          "model_module_version": "1.2.0",
          "state": {
            "_view_name": "LayoutView",
            "grid_template_rows": null,
            "right": null,
            "justify_content": null,
            "_view_module": "@jupyter-widgets/base",
            "overflow": null,
            "_model_module_version": "1.2.0",
            "_view_count": null,
            "flex_flow": null,
            "width": null,
            "min_width": null,
            "border": null,
            "align_items": null,
            "bottom": null,
            "_model_module": "@jupyter-widgets/base",
            "top": null,
            "grid_column": null,
            "overflow_y": null,
            "overflow_x": null,
            "grid_auto_flow": null,
            "grid_area": null,
            "grid_template_columns": null,
            "flex": null,
            "_model_name": "LayoutModel",
            "justify_items": null,
            "grid_row": null,
            "max_height": null,
            "align_content": null,
            "visibility": null,
            "align_self": null,
            "height": null,
            "min_height": null,
            "padding": null,
            "grid_auto_rows": null,
            "grid_gap": null,
            "max_width": null,
            "order": null,
            "_view_module_version": "1.2.0",
            "grid_template_areas": null,
            "object_position": null,
            "object_fit": null,
            "grid_auto_columns": null,
            "margin": null,
            "display": null,
            "left": null
          }
        },
        "e7a780811b8f4bc4b44b89e9910acfdc": {
          "model_module": "@jupyter-widgets/controls",
          "model_name": "HBoxModel",
          "model_module_version": "1.5.0",
          "state": {
            "_view_name": "HBoxView",
            "_dom_classes": [],
            "_model_name": "HBoxModel",
            "_view_module": "@jupyter-widgets/controls",
            "_model_module_version": "1.5.0",
            "_view_count": null,
            "_view_module_version": "1.5.0",
            "box_style": "",
            "layout": "IPY_MODEL_40d7d64bce2045168a47ddcaf7f2c47b",
            "_model_module": "@jupyter-widgets/controls",
            "children": [
              "IPY_MODEL_44daee39b44d4620ba740ea19ef5fb35",
              "IPY_MODEL_4621261ff6514f998297fd73fd35ab6b",
              "IPY_MODEL_563e1c926d9a412980814d6f5a4e99c8"
            ]
          }
        },
        "40d7d64bce2045168a47ddcaf7f2c47b": {
          "model_module": "@jupyter-widgets/base",
          "model_name": "LayoutModel",
          "model_module_version": "1.2.0",
          "state": {
            "_view_name": "LayoutView",
            "grid_template_rows": null,
            "right": null,
            "justify_content": null,
            "_view_module": "@jupyter-widgets/base",
            "overflow": null,
            "_model_module_version": "1.2.0",
            "_view_count": null,
            "flex_flow": null,
            "width": null,
            "min_width": null,
            "border": null,
            "align_items": null,
            "bottom": null,
            "_model_module": "@jupyter-widgets/base",
            "top": null,
            "grid_column": null,
            "overflow_y": null,
            "overflow_x": null,
            "grid_auto_flow": null,
            "grid_area": null,
            "grid_template_columns": null,
            "flex": null,
            "_model_name": "LayoutModel",
            "justify_items": null,
            "grid_row": null,
            "max_height": null,
            "align_content": null,
            "visibility": null,
            "align_self": null,
            "height": null,
            "min_height": null,
            "padding": null,
            "grid_auto_rows": null,
            "grid_gap": null,
            "max_width": null,
            "order": null,
            "_view_module_version": "1.2.0",
            "grid_template_areas": null,
            "object_position": null,
            "object_fit": null,
            "grid_auto_columns": null,
            "margin": null,
            "display": null,
            "left": null
          }
        },
        "44daee39b44d4620ba740ea19ef5fb35": {
          "model_module": "@jupyter-widgets/controls",
          "model_name": "HTMLModel",
          "model_module_version": "1.5.0",
          "state": {
            "_view_name": "HTMLView",
            "style": "IPY_MODEL_36084f83c7414bd4b883252d21b40684",
            "_dom_classes": [],
            "description": "",
            "_model_name": "HTMLModel",
            "placeholder": "​",
            "_view_module": "@jupyter-widgets/controls",
            "_model_module_version": "1.5.0",
            "value": "  100%",
            "_view_count": null,
            "_view_module_version": "1.5.0",
            "description_tooltip": null,
            "_model_module": "@jupyter-widgets/controls",
            "layout": "IPY_MODEL_b72f369dbce94ae19202af97c8539bae"
          }
        },
        "4621261ff6514f998297fd73fd35ab6b": {
          "model_module": "@jupyter-widgets/controls",
          "model_name": "FloatProgressModel",
          "model_module_version": "1.5.0",
          "state": {
            "_view_name": "ProgressView",
            "style": "IPY_MODEL_c01db1846f4648e6a2651d960b82d366",
            "_dom_classes": [],
            "description": "",
            "_model_name": "FloatProgressModel",
            "bar_style": "success",
            "max": 2,
            "_view_module": "@jupyter-widgets/controls",
            "_model_module_version": "1.5.0",
            "value": 2,
            "_view_count": null,
            "_view_module_version": "1.5.0",
            "orientation": "horizontal",
            "min": 0,
            "description_tooltip": null,
            "_model_module": "@jupyter-widgets/controls",
            "layout": "IPY_MODEL_13a553df624e4df9a97dd985ba91fc27"
          }
        },
        "563e1c926d9a412980814d6f5a4e99c8": {
          "model_module": "@jupyter-widgets/controls",
          "model_name": "HTMLModel",
          "model_module_version": "1.5.0",
          "state": {
            "_view_name": "HTMLView",
            "style": "IPY_MODEL_cc12c290e6fa4e6baead0c40fe11cf9a",
            "_dom_classes": [],
            "description": "",
            "_model_name": "HTMLModel",
            "placeholder": "​",
            "_view_module": "@jupyter-widgets/controls",
            "_model_module_version": "1.5.0",
            "value": " 2/2  ",
            "_view_count": null,
            "_view_module_version": "1.5.0",
            "description_tooltip": null,
            "_model_module": "@jupyter-widgets/controls",
            "layout": "IPY_MODEL_02f2e9be13524130b29b973d72df8e1d"
          }
        },
        "36084f83c7414bd4b883252d21b40684": {
          "model_module": "@jupyter-widgets/controls",
          "model_name": "DescriptionStyleModel",
          "model_module_version": "1.5.0",
          "state": {
            "_view_name": "StyleView",
            "_model_name": "DescriptionStyleModel",
            "description_width": "",
            "_view_module": "@jupyter-widgets/base",
            "_model_module_version": "1.5.0",
            "_view_count": null,
            "_view_module_version": "1.2.0",
            "_model_module": "@jupyter-widgets/controls"
          }
        },
        "b72f369dbce94ae19202af97c8539bae": {
          "model_module": "@jupyter-widgets/base",
          "model_name": "LayoutModel",
          "model_module_version": "1.2.0",
          "state": {
            "_view_name": "LayoutView",
            "grid_template_rows": null,
            "right": null,
            "justify_content": null,
            "_view_module": "@jupyter-widgets/base",
            "overflow": null,
            "_model_module_version": "1.2.0",
            "_view_count": null,
            "flex_flow": null,
            "width": null,
            "min_width": null,
            "border": null,
            "align_items": null,
            "bottom": null,
            "_model_module": "@jupyter-widgets/base",
            "top": null,
            "grid_column": null,
            "overflow_y": null,
            "overflow_x": null,
            "grid_auto_flow": null,
            "grid_area": null,
            "grid_template_columns": null,
            "flex": null,
            "_model_name": "LayoutModel",
            "justify_items": null,
            "grid_row": null,
            "max_height": null,
            "align_content": null,
            "visibility": null,
            "align_self": null,
            "height": null,
            "min_height": null,
            "padding": null,
            "grid_auto_rows": null,
            "grid_gap": null,
            "max_width": null,
            "order": null,
            "_view_module_version": "1.2.0",
            "grid_template_areas": null,
            "object_position": null,
            "object_fit": null,
            "grid_auto_columns": null,
            "margin": null,
            "display": null,
            "left": null
          }
        },
        "c01db1846f4648e6a2651d960b82d366": {
          "model_module": "@jupyter-widgets/controls",
          "model_name": "ProgressStyleModel",
          "model_module_version": "1.5.0",
          "state": {
            "_view_name": "StyleView",
            "_model_name": "ProgressStyleModel",
            "description_width": "",
            "_view_module": "@jupyter-widgets/base",
            "_model_module_version": "1.5.0",
            "_view_count": null,
            "_view_module_version": "1.2.0",
            "bar_color": null,
            "_model_module": "@jupyter-widgets/controls"
          }
        },
        "13a553df624e4df9a97dd985ba91fc27": {
          "model_module": "@jupyter-widgets/base",
          "model_name": "LayoutModel",
          "model_module_version": "1.2.0",
          "state": {
            "_view_name": "LayoutView",
            "grid_template_rows": null,
            "right": null,
            "justify_content": null,
            "_view_module": "@jupyter-widgets/base",
            "overflow": null,
            "_model_module_version": "1.2.0",
            "_view_count": null,
            "flex_flow": null,
            "width": null,
            "min_width": null,
            "border": null,
            "align_items": null,
            "bottom": null,
            "_model_module": "@jupyter-widgets/base",
            "top": null,
            "grid_column": null,
            "overflow_y": null,
            "overflow_x": null,
            "grid_auto_flow": null,
            "grid_area": null,
            "grid_template_columns": null,
            "flex": null,
            "_model_name": "LayoutModel",
            "justify_items": null,
            "grid_row": null,
            "max_height": null,
            "align_content": null,
            "visibility": null,
            "align_self": null,
            "height": null,
            "min_height": null,
            "padding": null,
            "grid_auto_rows": null,
            "grid_gap": null,
            "max_width": null,
            "order": null,
            "_view_module_version": "1.2.0",
            "grid_template_areas": null,
            "object_position": null,
            "object_fit": null,
            "grid_auto_columns": null,
            "margin": null,
            "display": null,
            "left": null
          }
        },
        "cc12c290e6fa4e6baead0c40fe11cf9a": {
          "model_module": "@jupyter-widgets/controls",
          "model_name": "DescriptionStyleModel",
          "model_module_version": "1.5.0",
          "state": {
            "_view_name": "StyleView",
            "_model_name": "DescriptionStyleModel",
            "description_width": "",
            "_view_module": "@jupyter-widgets/base",
            "_model_module_version": "1.5.0",
            "_view_count": null,
            "_view_module_version": "1.2.0",
            "_model_module": "@jupyter-widgets/controls"
          }
        },
        "02f2e9be13524130b29b973d72df8e1d": {
          "model_module": "@jupyter-widgets/base",
          "model_name": "LayoutModel",
          "model_module_version": "1.2.0",
          "state": {
            "_view_name": "LayoutView",
            "grid_template_rows": null,
            "right": null,
            "justify_content": null,
            "_view_module": "@jupyter-widgets/base",
            "overflow": null,
            "_model_module_version": "1.2.0",
            "_view_count": null,
            "flex_flow": null,
            "width": null,
            "min_width": null,
            "border": null,
            "align_items": null,
            "bottom": null,
            "_model_module": "@jupyter-widgets/base",
            "top": null,
            "grid_column": null,
            "overflow_y": null,
            "overflow_x": null,
            "grid_auto_flow": null,
            "grid_area": null,
            "grid_template_columns": null,
            "flex": null,
            "_model_name": "LayoutModel",
            "justify_items": null,
            "grid_row": null,
            "max_height": null,
            "align_content": null,
            "visibility": null,
            "align_self": null,
            "height": null,
            "min_height": null,
            "padding": null,
            "grid_auto_rows": null,
            "grid_gap": null,
            "max_width": null,
            "order": null,
            "_view_module_version": "1.2.0",
            "grid_template_areas": null,
            "object_position": null,
            "object_fit": null,
            "grid_auto_columns": null,
            "margin": null,
            "display": null,
            "left": null
          }
        },
        "0fac45dfac2647b190981ed50431c4e9": {
          "model_module": "@jupyter-widgets/controls",
          "model_name": "HBoxModel",
          "model_module_version": "1.5.0",
          "state": {
            "_view_name": "HBoxView",
            "_dom_classes": [],
            "_model_name": "HBoxModel",
            "_view_module": "@jupyter-widgets/controls",
            "_model_module_version": "1.5.0",
            "_view_count": null,
            "_view_module_version": "1.5.0",
            "box_style": "",
            "layout": "IPY_MODEL_58d9832fdba344b0bd7d1fb9052f0aed",
            "_model_module": "@jupyter-widgets/controls",
            "children": [
              "IPY_MODEL_faf3bd03d8474adeb2a194c7fd3397f7",
              "IPY_MODEL_403e2cbf611c4706963addcc1530f599",
              "IPY_MODEL_75b9057553b54d5bbcd86fb03c306263"
            ]
          }
        },
        "58d9832fdba344b0bd7d1fb9052f0aed": {
          "model_module": "@jupyter-widgets/base",
          "model_name": "LayoutModel",
          "model_module_version": "1.2.0",
          "state": {
            "_view_name": "LayoutView",
            "grid_template_rows": null,
            "right": null,
            "justify_content": null,
            "_view_module": "@jupyter-widgets/base",
            "overflow": null,
            "_model_module_version": "1.2.0",
            "_view_count": null,
            "flex_flow": null,
            "width": null,
            "min_width": null,
            "border": null,
            "align_items": null,
            "bottom": null,
            "_model_module": "@jupyter-widgets/base",
            "top": null,
            "grid_column": null,
            "overflow_y": null,
            "overflow_x": null,
            "grid_auto_flow": null,
            "grid_area": null,
            "grid_template_columns": null,
            "flex": null,
            "_model_name": "LayoutModel",
            "justify_items": null,
            "grid_row": null,
            "max_height": null,
            "align_content": null,
            "visibility": null,
            "align_self": null,
            "height": null,
            "min_height": null,
            "padding": null,
            "grid_auto_rows": null,
            "grid_gap": null,
            "max_width": null,
            "order": null,
            "_view_module_version": "1.2.0",
            "grid_template_areas": null,
            "object_position": null,
            "object_fit": null,
            "grid_auto_columns": null,
            "margin": null,
            "display": null,
            "left": null
          }
        },
        "faf3bd03d8474adeb2a194c7fd3397f7": {
          "model_module": "@jupyter-widgets/controls",
          "model_name": "HTMLModel",
          "model_module_version": "1.5.0",
          "state": {
            "_view_name": "HTMLView",
            "style": "IPY_MODEL_9cda13b3f5904878a3cf483b043178b4",
            "_dom_classes": [],
            "description": "",
            "_model_name": "HTMLModel",
            "placeholder": "​",
            "_view_module": "@jupyter-widgets/controls",
            "_model_module_version": "1.5.0",
            "value": "  100%",
            "_view_count": null,
            "_view_module_version": "1.5.0",
            "description_tooltip": null,
            "_model_module": "@jupyter-widgets/controls",
            "layout": "IPY_MODEL_474b5305e6834caabbb1810c471a2fb3"
          }
        },
        "403e2cbf611c4706963addcc1530f599": {
          "model_module": "@jupyter-widgets/controls",
          "model_name": "FloatProgressModel",
          "model_module_version": "1.5.0",
          "state": {
            "_view_name": "ProgressView",
            "style": "IPY_MODEL_8960eb0a720348b8b34ac7cf6bc81292",
            "_dom_classes": [],
            "description": "",
            "_model_name": "FloatProgressModel",
            "bar_style": "success",
            "max": 38,
            "_view_module": "@jupyter-widgets/controls",
            "_model_module_version": "1.5.0",
            "value": 38,
            "_view_count": null,
            "_view_module_version": "1.5.0",
            "orientation": "horizontal",
            "min": 0,
            "description_tooltip": null,
            "_model_module": "@jupyter-widgets/controls",
            "layout": "IPY_MODEL_fc27e0a0f1ef414abc1ccce380305609"
          }
        },
        "75b9057553b54d5bbcd86fb03c306263": {
          "model_module": "@jupyter-widgets/controls",
          "model_name": "HTMLModel",
          "model_module_version": "1.5.0",
          "state": {
            "_view_name": "HTMLView",
            "style": "IPY_MODEL_2dced58801eb4e7895cffc3a85169593",
            "_dom_classes": [],
            "description": "",
            "_model_name": "HTMLModel",
            "placeholder": "​",
            "_view_module": "@jupyter-widgets/controls",
            "_model_module_version": "1.5.0",
            "value": " 38/38  ",
            "_view_count": null,
            "_view_module_version": "1.5.0",
            "description_tooltip": null,
            "_model_module": "@jupyter-widgets/controls",
            "layout": "IPY_MODEL_d1fbcdf4dc044403b53a6f332b58bd72"
          }
        },
        "9cda13b3f5904878a3cf483b043178b4": {
          "model_module": "@jupyter-widgets/controls",
          "model_name": "DescriptionStyleModel",
          "model_module_version": "1.5.0",
          "state": {
            "_view_name": "StyleView",
            "_model_name": "DescriptionStyleModel",
            "description_width": "",
            "_view_module": "@jupyter-widgets/base",
            "_model_module_version": "1.5.0",
            "_view_count": null,
            "_view_module_version": "1.2.0",
            "_model_module": "@jupyter-widgets/controls"
          }
        },
        "474b5305e6834caabbb1810c471a2fb3": {
          "model_module": "@jupyter-widgets/base",
          "model_name": "LayoutModel",
          "model_module_version": "1.2.0",
          "state": {
            "_view_name": "LayoutView",
            "grid_template_rows": null,
            "right": null,
            "justify_content": null,
            "_view_module": "@jupyter-widgets/base",
            "overflow": null,
            "_model_module_version": "1.2.0",
            "_view_count": null,
            "flex_flow": null,
            "width": null,
            "min_width": null,
            "border": null,
            "align_items": null,
            "bottom": null,
            "_model_module": "@jupyter-widgets/base",
            "top": null,
            "grid_column": null,
            "overflow_y": null,
            "overflow_x": null,
            "grid_auto_flow": null,
            "grid_area": null,
            "grid_template_columns": null,
            "flex": null,
            "_model_name": "LayoutModel",
            "justify_items": null,
            "grid_row": null,
            "max_height": null,
            "align_content": null,
            "visibility": null,
            "align_self": null,
            "height": null,
            "min_height": null,
            "padding": null,
            "grid_auto_rows": null,
            "grid_gap": null,
            "max_width": null,
            "order": null,
            "_view_module_version": "1.2.0",
            "grid_template_areas": null,
            "object_position": null,
            "object_fit": null,
            "grid_auto_columns": null,
            "margin": null,
            "display": null,
            "left": null
          }
        },
        "8960eb0a720348b8b34ac7cf6bc81292": {
          "model_module": "@jupyter-widgets/controls",
          "model_name": "ProgressStyleModel",
          "model_module_version": "1.5.0",
          "state": {
            "_view_name": "StyleView",
            "_model_name": "ProgressStyleModel",
            "description_width": "",
            "_view_module": "@jupyter-widgets/base",
            "_model_module_version": "1.5.0",
            "_view_count": null,
            "_view_module_version": "1.2.0",
            "bar_color": null,
            "_model_module": "@jupyter-widgets/controls"
          }
        },
        "fc27e0a0f1ef414abc1ccce380305609": {
          "model_module": "@jupyter-widgets/base",
          "model_name": "LayoutModel",
          "model_module_version": "1.2.0",
          "state": {
            "_view_name": "LayoutView",
            "grid_template_rows": null,
            "right": null,
            "justify_content": null,
            "_view_module": "@jupyter-widgets/base",
            "overflow": null,
            "_model_module_version": "1.2.0",
            "_view_count": null,
            "flex_flow": null,
            "width": null,
            "min_width": null,
            "border": null,
            "align_items": null,
            "bottom": null,
            "_model_module": "@jupyter-widgets/base",
            "top": null,
            "grid_column": null,
            "overflow_y": null,
            "overflow_x": null,
            "grid_auto_flow": null,
            "grid_area": null,
            "grid_template_columns": null,
            "flex": null,
            "_model_name": "LayoutModel",
            "justify_items": null,
            "grid_row": null,
            "max_height": null,
            "align_content": null,
            "visibility": null,
            "align_self": null,
            "height": null,
            "min_height": null,
            "padding": null,
            "grid_auto_rows": null,
            "grid_gap": null,
            "max_width": null,
            "order": null,
            "_view_module_version": "1.2.0",
            "grid_template_areas": null,
            "object_position": null,
            "object_fit": null,
            "grid_auto_columns": null,
            "margin": null,
            "display": null,
            "left": null
          }
        },
        "2dced58801eb4e7895cffc3a85169593": {
          "model_module": "@jupyter-widgets/controls",
          "model_name": "DescriptionStyleModel",
          "model_module_version": "1.5.0",
          "state": {
            "_view_name": "StyleView",
            "_model_name": "DescriptionStyleModel",
            "description_width": "",
            "_view_module": "@jupyter-widgets/base",
            "_model_module_version": "1.5.0",
            "_view_count": null,
            "_view_module_version": "1.2.0",
            "_model_module": "@jupyter-widgets/controls"
          }
        },
        "d1fbcdf4dc044403b53a6f332b58bd72": {
          "model_module": "@jupyter-widgets/base",
          "model_name": "LayoutModel",
          "model_module_version": "1.2.0",
          "state": {
            "_view_name": "LayoutView",
            "grid_template_rows": null,
            "right": null,
            "justify_content": null,
            "_view_module": "@jupyter-widgets/base",
            "overflow": null,
            "_model_module_version": "1.2.0",
            "_view_count": null,
            "flex_flow": null,
            "width": null,
            "min_width": null,
            "border": null,
            "align_items": null,
            "bottom": null,
            "_model_module": "@jupyter-widgets/base",
            "top": null,
            "grid_column": null,
            "overflow_y": null,
            "overflow_x": null,
            "grid_auto_flow": null,
            "grid_area": null,
            "grid_template_columns": null,
            "flex": null,
            "_model_name": "LayoutModel",
            "justify_items": null,
            "grid_row": null,
            "max_height": null,
            "align_content": null,
            "visibility": null,
            "align_self": null,
            "height": null,
            "min_height": null,
            "padding": null,
            "grid_auto_rows": null,
            "grid_gap": null,
            "max_width": null,
            "order": null,
            "_view_module_version": "1.2.0",
            "grid_template_areas": null,
            "object_position": null,
            "object_fit": null,
            "grid_auto_columns": null,
            "margin": null,
            "display": null,
            "left": null
          }
        }
      }
    }
  },
  "nbformat": 4,
  "nbformat_minor": 0
}